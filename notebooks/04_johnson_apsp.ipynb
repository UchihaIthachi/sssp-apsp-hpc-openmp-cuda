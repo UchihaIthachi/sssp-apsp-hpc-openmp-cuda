{
 "cells": [
  {
   "cell_type": "markdown",
   "metadata": {},
   "source": [
    "# 04. Johnson's Algorithm APSP Benchmark\n",
    "\n",
    "This notebook benchmarks the following variants of Johnson's algorithm for All-Pairs Shortest Path (APSP):\n",
    "- `johnson_serial`\n",
    "- `johnson_openmp`\n",
    "- `johnson_cuda`\n",
    "- `johnson_hybrid`\n",
    "\n",
    "Johnson's algorithm is efficient for sparse graphs and can handle negative edge weights, but it will fail if the graph contains a negative-weight cycle."
   ]
  },
  {
   "cell_type": "markdown",
   "metadata": {},
   "source": [
    "## 1. Setup\n",
    "\n",
    "Copy and paste the utility functions from `00_setup_build.ipynb`."
   ]
  },
  {
   "cell_type": "code",
   "execution_count": null,
   "metadata": {},
   "outputs": [],
   "source": [
    "import subprocess, statistics, re, os, json, time, pandas as pd\n",
    "\n",
    "def run_command(cmd, timeout=300):\n",
    "    try:\n",
    "        print(\"  >\", cmd)\n",
    "        return subprocess.run(cmd, shell=True, capture_output=True,\n",
    "                             text=True, check=True, timeout=timeout).stdout\n",
    "    except subprocess.CalledProcessError as e:\n",
    "        print(\"    stderr:\", e.stderr.strip())\n",
    "    except subprocess.TimeoutExpired:\n",
    "        print(\"    timeout\")\n",
    "    return None\n",
    "\n",
    "def parse_time(out):\n",
    "    if not out: return None\n",
    "    if \"negative cycle\" in out.lower():\n",
    "        print(\"    Negative cycle detected, skipping.\")\n",
    "        return None\n",
    "    m = re.search(r\"time:\\s*([0-9]*\\\\.?[0-9]+)\\\\s*(ms|s|sec|seconds)?\", out, re.I)\n",
    "    if not m: return None\n",
    "    val = float(m.group(1)); unit = (m.group(2) or \"s\").lower()\n",
    "    return val/1000.0 if unit.startswith(\"ms\") else val\n",
    "\n",
    "def time_exe(cmd, warmups=1, runs=3):\n",
    "    if not cmd: return None\n",
    "    for _ in range(warmups): _ = run_command(cmd)\n",
    "    samples = []\n",
    "    for _ in range(runs):\n",
    "        t = parse_time(run_command(cmd))\n",
    "        if t is not None: samples.append(t)\n",
    "    return statistics.median(samples) if samples else None"
   ]
  },
  {
   "cell_type": "markdown",
   "metadata": {},
   "source": [
    "## 2. Dataset Selection"
   ]
  },
  {
   "cell_type": "code",
   "execution_count": null,
   "metadata": {},
   "outputs": [],
   "source": [
    "#@markdown **Dataset Selection** for Johnson's Algorithm\n",
    "use_real_data = False  #@param {type:\"boolean\"}\n",
    "real_graph_url = \"https://snap.stanford.edu/data/wiki-Vote.txt.gz\"  # example for a sparse graph\n",
    "graph_path = \"johnson_graph.txt\"\n",
    "\n",
    "if use_real_data:\n",
    "    # Note: This is a placeholder. The executable would need to be modified\n",
    "    # to read a specific file format (e.g., edge list).\n",
    "    print(\"Real data mode is selected, but requires modifying the C++ executable to load from a file.\")\n",
    "else:\n",
    "    print(\"Using synthetic random graphs for Johnson's algorithm.\")"
   ]
  },
  {
   "cell_type": "markdown",
   "metadata": {},
   "source": [
    "## 3. Benchmark Parameters"
   ]
  },
  {
   "cell_type": "code",
   "execution_count": null,
   "metadata": {
    "tags": [
     "form"
    ]
   },
   "outputs": [],
   "source": [
    "#@markdown ### Benchmark Parameters (Johnson APSP)\n",
    "V_list = \"50,100,200,300\"      #@param {type:\"string\"}\n",
    "min_w = -10                    #@param {type:\"integer\"}\n",
    "max_w = 50                     #@param {type:\"integer\"}\n",
    "density = 0.1                  #@param {type:\"number\"}\n",
    "threads = 8                    #@param {type:\"integer\"}\n",
    "split_ratio = 0.5              #@param {type:\"number\"}\n",
    "\n",
    "V_list = [int(x) for x in V_list.split(\",\")]\n",
    "executables = ['johnson_serial','johnson_openmp','johnson_cuda','johnson_hybrid']"
   ]
  },
  {
   "cell_type": "markdown",
   "metadata": {},
   "source": [
    "### Parallelizing Johnson's Algorithm\n",
    "\n",
    "Johnson's algorithm consists of two main phases:\n",
    "1.  A single run of Bellman-Ford to compute vertex potentials for re-weighting.\n",
    "2.  `V` independent runs of Dijkstra's algorithm, one for each vertex.\n",
    "\n",
    "Phase 2 is **embarrassingly parallel**. Each Dijkstra run is independent of the others, making it a perfect candidate for parallelization. Our OpenMP implementation can leverage this by assigning different source vertices to different threads, for example, using a `#pragma omp parallel for` loop over the vertices."
   ]
  },
  {
   "cell_type": "markdown",
   "metadata": {},
   "source": [
    "## 4. Command Builder"
   ]
  },
  {
   "cell_type": "code",
   "execution_count": null,
   "metadata": {},
   "outputs": [],
   "source": [
    "def build_cmd_johnson(exe, v, *, min_w, max_w, density, threads, split_ratio):\n",
    "    path = os.path.join(\"bin\", exe)\n",
    "    if not os.path.exists(path): return None\n",
    "    args = [str(v), str(min_w), str(max_w), str(density)]\n",
    "    if \"hybrid\" in exe:\n",
    "        args.insert(3, str(split_ratio))\n",
    "    if (\"openmp\" in exe) or (\"hybrid\" in exe):\n",
    "        args.append(str(threads))\n",
    "    return \" \".join([path] + args)"
   ]
  },
  {
   "cell_type": "markdown",
   "metadata": {},
   "source": [
    "## 5. Run Benchmarks"
   ]
  },
  {
   "cell_type": "code",
   "execution_count": null,
   "metadata": {},
   "outputs": [],
   "source": [
    "rows = []\n",
    "for v in V_list:\n",
    "    print(f\"\\nJohnson for V={v}\")\n",
    "    row = {\"vertices\": v}\n",
    "    for exe in executables:\n",
    "        cmd = build_cmd_johnson(exe, v, min_w=min_w, max_w=max_w,\n",
    "                                density=density, threads=threads, split_ratio=split_ratio)\n",
    "        t = time_exe(cmd)\n",
    "        row[exe] = t\n",
    "        if t is not None: print(f\"  {exe}: {t:.6f}s\")\n",
    "    rows.append(row)\n",
    "\n",
    "import pandas as pd\n",
    "df_j = pd.DataFrame(rows).set_index(\"vertices\").sort_index()\n",
    "df_j.to_csv(\"johnson_times.csv\")\n",
    "df_j"
   ]
  },
  {
   "cell_type": "markdown",
   "metadata": {},
   "source": [
    "## 6. Speedup Analysis"
   ]
  },
  {
   "cell_type": "code",
   "execution_count": null,
   "metadata": {},
   "outputs": [],
   "source": [
    "import numpy as np, seaborn as sns, matplotlib.pyplot as plt\n",
    "base = df_j['johnson_serial']\n",
    "speed = pd.DataFrame({\n",
    "    \"johnson_openmp_speedup\": base / df_j['johnson_openmp'],\n",
    "    \"johnson_cuda_speedup\":   base / df_j['johnson_cuda'],\n",
    "    \"johnson_hybrid_speedup\": base / df_j['johnson_hybrid'],\n",
    "}, index=df_j.index)\n",
    "\n",
    "display(speed)\n",
    "sns.lineplot(data=speed.reset_index().melt(\"vertices\", var_name=\"variant\", value_name=\"speedup\"),\n",
    "             x=\"vertices\", y=\"speedup\", hue=\"variant\", marker=\"o\")\n",
    "plt.axhline(1, ls=\"--\", c=\"gray\"); plt.yscale(\"log\"); plt.show()\n",
    "speed.to_csv(\"johnson_speedup.csv\")"
   ]
  },
  {
   "cell_type": "markdown",
   "metadata": {},
   "source": [
    "## 7. Johnson vs. Floyd-Warshall Discussion\n",
    "\n",
    "The choice between Johnson's algorithm and Floyd-Warshall for APSP depends heavily on the graph's density.\n",
    "\n",
    "- **Johnson's Algorithm**: `O(V*E + V²*logV)`. It excels on **sparse graphs** where `E` is much smaller than `V²`. The initial Bellman-Ford run `O(V*E)` is the main bottleneck on sparse graphs.\n",
    "- **Floyd-Warshall**: `O(V³)` It is generally better for **dense graphs**, where `E` is close to `V²`. In this case, the `O(V*E)` part of Johnson's algorithm approaches `O(V³)`, making it less efficient than the more straightforward, cache-friendly Floyd-Warshall."
   ]
  }
 ],
 "metadata": {
  "kernelspec": {
   "display_name": "Python 3",
   "language": "python",
   "name": "python3"
  },
  "language_info": {
   "codemirror_mode": {
    "name": "ipython",
    "version": 3
   },
   "file_extension": ".py",
   "mimetype": "text/x-python",
   "name": "python",
   "nbconvert_exporter": "python",
   "pygments_lexer": "ipython3",
   "version": "3.9.7"
  }
 },
 "nbformat": 4,
 "nbformat_minor": 4
}