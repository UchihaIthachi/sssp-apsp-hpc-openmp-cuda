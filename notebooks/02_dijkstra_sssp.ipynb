{
 "cells": [
  {
   "cell_type": "markdown",
   "metadata": {},
   "source": [
    "# 02. Dijkstra SSSP Benchmark\n",
    "\n",
    "This notebook benchmarks the following variants of Dijkstra's algorithm for Single-Source Shortest Path (SSSP):\n",
    "- `dijkstra_serial`\n",
    "- `dijkstra_openmp`\n",
    "- `dijkstra_cuda`\n",
    "- `dijkstra_hybrid`\n",
    "\n",
    "Dijkstra's algorithm requires that all edge weights be **non-negative**."
   ]
  },
  {
   "cell_type": "markdown",
   "metadata": {},
   "source": [
    "## 1. Setup\n",
    "\n",
    "Copy and paste the utility functions from `00_setup_build.ipynb`."
   ]
  },
  {
   "cell_type": "code",
   "execution_count": null,
   "metadata": {},
   "outputs": [],
   "source": [
    "import subprocess, statistics, re, os, json, time, pandas as pd\n",
    "\n",
    "def run_command(cmd, timeout=300):\n",
    "    try:\n",
    "        print(\"  >\", cmd)\n",
    "        return subprocess.run(cmd, shell=True, capture_output=True,\n",
    "                             text=True, check=True, timeout=timeout).stdout\n",
    "    except subprocess.CalledProcessError as e:\n",
    "        print(\"    stderr:\", e.stderr.strip())\n",
    "    except subprocess.TimeoutExpired:\n",
    "        print(\"    timeout\")\n",
    "    return None\n",
    "\n",
    "def parse_time(out):\n",
    "    if not out: return None\n",
    "    m = re.search(r\"time:\\s*([0-9]*\\.?[0-9]+)\\s*(ms|s|sec|seconds)?\", out, re.I)\n",
    "    if not m: return None\n",
    "    val = float(m.group(1)); unit = (m.group(2) or \"s\").lower()\n",
    "    return val/1000.0 if unit.startswith(\"ms\") else val\n",
    "\n",
    "def time_exe(cmd, warmups=1, runs=3):\n",
    "    if not cmd: return None\n",
    "    for _ in range(warmups): _ = run_command(cmd)\n",
    "    samples = []\n",
    "    for _ in range(runs):\n",
    "        t = parse_time(run_command(cmd))\n",
        "        if t is not None: samples.append(t)\n",
    "    return statistics.median(samples) if samples else None"
   ]
  },
  {
   "cell_type": "markdown",
   "metadata": {},
   "source": [
    "## 2. Dataset Selection"
   ]
  },
  {
   "cell_type": "code",
   "execution_count": null,
   "metadata": {},
   "outputs": [],
   "source": [
    "#@markdown **Dataset Selection** for Dijkstra\n",
    "use_real_data = False  #@param {type:\"boolean\"}\n",
    "real_graph_url = \"https://raw.githubusercontent.com/graph-analysis/graphs/master/road-NY.txt\"  # example link for a road network\n",
    "graph_path = \"dijkstra_graph.txt\"\n",
    "\n",
    "if use_real_data:\n",
    "    if not os.path.exists(graph_path):\n",
    "        try:\n",
    "            r = requests.get(real_graph_url)\n",
    "            r.raise_for_status()\n",
    "            with open(graph_path, \"w\") as f:\n",
    "                f.write(r.text)\n",
    "            print(\"Real graph downloaded for Dijkstra.\")\n",
    "        except Exception as e:\n",
    "            print(f\"Failed to download real graph: {e}\")\n",
    "            use_real_data = False\n",
    "if use_real_data:\n",
    "    input_mode = f\"file:{graph_path}\"\n",
    "else:\n",
    "    input_mode = f\"{min_w} {max_w} {density}\"  # parameters for random graph generator\n",
    "    print(\"Using synthetic random graphs for Dijkstra.\")\n",
    "\n",
    "print(\"Input mode:\", input_mode)"
   ]
  },
  {
   "cell_type": "markdown",
   "metadata": {},
   "source": [
    "## 3. Benchmark Parameters"
   ]
  },
  {
   "cell_type": "code",
   "execution_count": null,
   "metadata": {
    "tags": [
     "form"
    ]
   },
   "outputs": [],
   "source": [
    "#@markdown ### Benchmark Parameters (Dijkstra SSSP)\n",
    "V_list = \"500,1000,2000,5000\"  #@param {type:\"string\"}\n",
    "min_w = 1                      #@param {type:\"integer\"}\n",
    "max_w = 50                     #@param {type:\"integer\"}\n",
    "density = 0.1                  #@param {type:\"number\"}\n",
    "threads = 8                    #@param {type:\"integer\"}\n",
    "split_ratio = 0.5              #@param {type:\"number\"}\n",
    "\n",
    "V_list = [int(x) for x in V_list.split(\",\")]\n",
    "executables = ['dijkstra_serial','dijkstra_openmp','dijkstra_cuda','dijkstra_hybrid']"
   ]
  },
  {
   "cell_type": "markdown",
   "metadata": {},
   "source": [
    "### Algorithmic Variant: Δ-Stepping\n",
    "\n",
    "Dijkstra's algorithm is inherently sequential because it always processes the single vertex with the globally minimum distance. **Δ-Stepping** is a parallel-friendly alternative that relaxes this strict requirement. It processes vertices in 'buckets', where each bucket `B_i` contains vertices with distances in the range `[iΔ, (i+1)Δ)`.\n",
    "\n",
    "**How it works:**\n",
    "1. The algorithm proceeds in phases, processing one bucket at a time.\n",
    "2. Within a bucket, all 'light' edges (weight ≤ Δ) are relaxed in parallel. This may add vertices to the current bucket.\n",
    "3. Once all light edges from the current bucket are processed, all 'heavy' edges (weight > Δ) are relaxed in parallel, which adds vertices to subsequent buckets.\n",
    "4. This trade-off allows for massive parallelism within a bucket at the cost of potentially doing more work than a standard Dijkstra's."
   ]
  },
  {
   "cell_type": "code",
   "execution_count": null,
   "metadata": {},
   "outputs": [],
   "source": [
    "# Pseudo-code for Δ-stepping (illustrative)\n",
    "from math import floor\n",
    "def delta_stepping(graph, source, delta):\n",
    "    V = graph.V\n",
    "    dist = [float('inf')]*V\n",
    "    dist[source] = 0\n",
    "    # Buckets: list of sets of vertices\n",
    "    B = [set() for _ in range(floor(graph.max_weight//delta) + 2)]\n",
    "    B[0].add(source)\n",
    "    current_bucket = 0\n",
    "    while current_bucket < len(B):\n",
    "        if not B[current_bucket]:\n",
    "            current_bucket += 1\n",
    "            continue\n",
    "        # Relax all light edges from current bucket in parallel\n",
    "        S = list(B[current_bucket]); B[current_bucket].clear()\n",
    "        for u in S:\n",
    "            for v, w in graph.neighbors(u):\n",
    "                new_dist = dist[u] + w\n",
    "                if new_dist < dist[v]:\n",
    "                    dist[v] = new_dist\n",
    "                    if w <= delta:\n",
    "                        B[current_bucket].add(v)  # light edge\n",
    "                    else:\n",
    "                        b_index = current_bucket + int(w/delta)\n",
    "                        if b_index >= len(B):\n",
    "                            B.extend([set()]*(b_index-len(B)+1))\n",
    "                        B[b_index].add(v)         # heavy edge goes to later bucket\n",
    "    return dist"
   ]
  },
  {
   "cell_type": "markdown",
   "metadata": {},
   "source": [
    "### GPU Library Baseline (RAPIDS cuGraph)\n",
    "\n",
    "To gauge the performance of our custom implementations, we can benchmark against `cuGraph`, a highly optimized GPU graph analytics library from RAPIDS."
   ]
  },
  {
   "cell_type": "code",
   "execution_count": null,
   "metadata": {},
   "outputs": [],
   "source": [
    "try:\n",
    "    import cugraph\n",
    "    import cudf\n",
    "    import networkx as nx\n",
    "    print(\"cugraph is available.\")\n",
    "    \n",
    "    # Generate a sample graph to benchmark with cuGraph\n",
    "    Gnx = nx.gnp_random_graph(n=1000, p=0.1, seed=42, directed=True)\n",
    "    for (u, v) in Gnx.edges():\n",
    "        Gnx.edges[u, v]['weight'] = float(np.random.randint(min_w, max_w+1))\n",
    "    \n",
    "    # Convert to cuGraph\n",
    "    gdf = cudf.from_pandas(nx.to_pandas_edgelist(Gnx))\n",
    "    G_cu = cugraph.Graph(directed=True)\n",
    "    G_cu.from_cudf_edgelist(gdf, source='source', destination='target', edge_attr='weight')\n",
    "    \n",
    "    # Time the SSSP calculation\n",
    "    %timeit cugraph.sssp(G_cu, source=0)\n",
    "    \n",
    "except ImportError:\n",
    "    print(\"cugraph not found. Skipping baseline comparison. Install with 'pip install cugraph-cuda11x'.\")"
   ]
  },
  {
   "cell_type": "markdown",
   "metadata": {},
   "source": [
    "### Profiling with Nsight Systems\n",
    "\n",
    "To understand performance bottlenecks, we can use NVIDIA's Nsight Systems profiler. The following command runs the `dijkstra_cuda` executable under `nsys` and generates a report file that can be viewed in the Nsight Systems GUI."
   ]
  },
  {
   "cell_type": "code",
   "execution_count": null,
   "metadata": {},
   "outputs": [],
   "source": [
    "# Ensure Nsight Systems CLI is available (may require separate installation)\n",
    "!nsys profile --stats=true -o profile_dijkstra_cuda \\\n",
    "      ./bin/dijkstra_cuda 1000 1 50 0.2"
   ]
  },
  {
   "cell_type": "markdown",
   "metadata": {},
   "source": [
    "## 6. Command Builder"
   ]
  },
  {
   "cell_type": "code",
   "execution_count": null,
   "metadata": {},
   "outputs": [],
   "source": [
    "def build_cmd_dij(exe, v, *, min_w, max_w, density, threads, split_ratio):\n",
    "    path = os.path.join(\"bin\", exe)\n",
    "    if not os.path.exists(path): return None\n",
    "    args = [str(v), str(min_w), str(max_w), str(density)]\n",
    "    if \"hybrid\" in exe:\n",
    "        args.insert(3, str(split_ratio))\n",
    "    if (\"openmp\" in exe) or (\"hybrid\" in exe):\n",
    "        args.append(str(threads))\n",
    "    return \" \".join([path] + args)"
   ]
  },
  {
   "cell_type": "markdown",
   "metadata": {},
   "source": [
    "## 7. Run Benchmarks"
   ]
  },
  {
   "cell_type": "code",
   "execution_count": null,
   "metadata": {},
   "outputs": [],
   "source": [
    "rows = []\n",
    "for v in V_list:\n",
    "    print(f\"\\nDijkstra for V={v}\")\n",
    "    row = {\"vertices\": v}\n",
    "    for exe in executables:\n",
    "        cmd = build_cmd_dij(exe, v, min_w=min_w, max_w=max_w,\n",
    "                            density=density, threads=threads, split_ratio=split_ratio)\n",
    "        t = time_exe(cmd)\n",
    "        row[exe] = t\n",
    "        if t is not None: print(f\"  {exe}: {t:.6f}s\")\n",
    "    rows.append(row)\n",
    "\n",
    "import pandas as pd\n",
    "df_dij = pd.DataFrame(rows).set_index(\"vertices\").sort_index()\n",
    "df_dij.to_csv(\"dijkstra_times.csv\")\n",
    "df_dij"
   ]
  },
  {
   "cell_type": "markdown",
   "metadata": {},
   "source": [
    "## 8. Speedup Analysis"
   ]
  },
  {
   "cell_type": "code",
   "execution_count": null,
   "metadata": {},
   "outputs": [],
   "source": [
    "import numpy as np, seaborn as sns, matplotlib.pyplot as plt\n",
    "base = df_dij['dijkstra_serial']\n",
    "speed = pd.DataFrame({\n",
    "    \"dijkstra_openmp_speedup\": base / df_dij['dijkstra_openmp'],\n",
    "    \"dijkstra_cuda_speedup\":   base / df_dij['dijkstra_cuda'],\n",
    "    \"dijkstra_hybrid_speedup\": base / df_dij['dijkstra_hybrid'],\n",
    "}, index=df_dij.index)\n",
    "\n",
    "display(speed)\n",
    "sns.lineplot(data=speed.reset_index().melt(\"vertices\", var_name=\"variant\", value_name=\"speedup\"),\n",
    "             x=\"vertices\", y=\"speedup\", hue=\"variant\", marker=\"o\")\n",
    "plt.axhline(1, ls=\"--\", c=\"gray\"); plt.yscale(\"log\"); plt.show()\n",
    "speed.to_csv(\"dijkstra_speedup.csv\")"
   ]
  }
 ],
 "metadata": {
  "kernelspec": {
   "display_name": "Python 3",
   "language": "python",
   "name": "python3"
  },
  "language_info": {
   "codemirror_mode": {
    "name": "ipython",
    "version": 3
   },
   "file_extension": ".py",
   "mimetype": "text/x-python",
   "name": "python",
   "nbconvert_exporter": "python",
   "pygments_lexer": "ipython3",
   "version": "3.9.7"
  }
 },
 "nbformat": 4,
 "nbformat_minor": 4
}