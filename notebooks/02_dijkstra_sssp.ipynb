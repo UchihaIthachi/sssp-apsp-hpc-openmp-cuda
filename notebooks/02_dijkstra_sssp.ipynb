{
  "cells": [
    {
      "cell_type": "markdown",
      "metadata": {
        "id": "RaW55iikUVpS"
      },
      "source": [
        "# 02. Dijkstra SSSP Benchmark\\n",
        "\\n",
        "This notebook benchmarks variants of Dijkstra's algorithm for SSSP. It assumes non-negative edge weights.\\n",
        "- `dijkstra_serial`\\n",
        "- `dijkstra_openmp`\\n",
        "- `dijkstra_cuda`\\n",
        "- `dijkstra_hybrid`"
      ]
    },
    {
      "cell_type": "markdown",
      "metadata": {
        "id": "cimDEKWTUVpX"
      },
      "source": [
        "## 1. Setup\\n",
        "\\n",
        "This cell ensures the notebook is running in the correct project root directory and copies the shared utility functions from the setup notebook."
      ]
    },
    {
      "cell_type": "code",
      "execution_count": null,
      "metadata": {
        "id": "Y1pgtyFlUVpY"
      },
      "outputs": [],
      "source": [
        "import os\\n",
        "if os.path.basename(os.getcwd()) == 'notebooks':\\n",
        "    %cd ..\\n",
        "print(f'Working directory: {os.getcwd()}')\\n",
        "!echo '\\n== bin/ contents =='; ls -F bin/\\n",
        "\\n",
        "import subprocess, statistics, re, os, json, time, pandas as pd\\n",
        "\\n",
        "def run_command(cmd, timeout=300):\\n",
        "    try:\\n",
        "        print(f'  > {cmd}')\\n",
        "        return subprocess.run(cmd, shell=True, capture_output=True, text=True, check=True, timeout=timeout).stdout\\n",
        "    except subprocess.CalledProcessError as e:\\n",
        "        print(f'    stderr: {e.stderr.strip()}')\\n",
        "    except subprocess.TimeoutExpired:\\n",
        "        print('    timeout')\\n",
        "    return None\\n",
        "\\n",
        "def parse_time(out):\\n",
        "    if not out: return None\\n",
        "    m = re.search(r'time:\\\\s*([0-9]*\\\\.?[0-9]+)\\\\s*(ms|s|sec|seconds)?', out, re.I)\\n",
        "    if not m: return None\\n",
        "    val = float(m.group(1)); unit = (m.group(2) or 's').lower()\\n",
        "    return val/1000.0 if unit.startswith('ms') else val\\n",
        "\\n",
        "def time_exe(cmd, warmups=1, runs=3):\\n",
        "    if not cmd: return None\\n",
        "    for _ in range(warmups): _ = run_command(cmd)\\n",
        "    samples = []\\n",
        "    for _ in range(runs):\\n",
        "        t = parse_time(run_command(cmd))\\n",
        "        if t is not None: samples.append(t)\\n",
        "    return statistics.median(samples) if samples else None"
      ]
    },
    {
      "cell_type": "markdown",
      "metadata": {
        "id": "w__zT2d4UVpa"
      },
      "source": [
        "## 2. Dataset Selection"
      ]
    },
    {
      "cell_type": "code",
      "execution_count": null,
      "metadata": {
        "id": "8kSr7uT3UVpa"
      },
      "outputs": [],
      "source": [
        "#@markdown **Dataset Selection** (set `use_real_data` to toggle)\\n",
        "use_real_data = False  #@param {type:'boolean'}\\n",
        "real_graph_url = 'https://raw.githubusercontent.com/networkrepository/NRG/edge_list/small_graph.edgelist'\\n",
        "\\n",
        "if use_real_data:\\n",
        "    # (Code for downloading real data - omitted for brevity, assumed to be similar to BF notebook)\\n",
        "    print('Using real dataset for Dijkstra.')\\n",
        "else:\\n",
        "    print('Using synthetic random graphs for Dijkstra.')"
      ]
    },
    {
      "cell_type": "markdown",
      "metadata": {
        "id": "1DaWUsZ-UVpa"
      },
      "source": [
        "## 3. Benchmark Parameters"
      ]
    },
    {
      "cell_type": "code",
      "execution_count": null,
      "metadata": {
        "tags": [
          "form"
        ],
        "id": "wIBGHp8nUVpb"
      },
      "outputs": [],
      "source": [
        "#@markdown ### Benchmark Parameters (Dijkstra SSSP)\\n",
        "V_list = '500,1000,2000,5000'  #@param {type:'string'}\\n",
        "min_w = 1                      #@param {type:'integer'}\\n",
        "max_w = 100                    #@param {type:'integer'}\\n",
        "density = 0.1                  #@param {type:'number'}\\n",
        "threads = 8                    #@param {type:'integer'}\\n",
        "delta_value = 5                #@param {type:'integer'}\\n",
        "\\n",
        "V_list = [int(x) for x in V_list.split(',')]",
        "executables = ['dijkstra_serial', 'dijkstra_openmp', 'dijkstra_cuda', 'dijkstra_hybrid']"
      ]
    },
    {
      "cell_type": "markdown",
      "metadata": {
        "id": "Z7Gq866EUVpc"
      },
      "source": [
        "### Algorithmic Variant: Δ-Stepping\\n",
        "\\n",
        "The Δ-Stepping algorithm parallelizes Dijkstra by processing vertices in batches. It relaxes 'light' edges (weight < Δ) synchronously within a bucket, and 'heavy' edges asynchronously. This balances load and reduces synchronization overhead, making it effective for parallel execution."
      ]
    },
    {
      "cell_type": "markdown",
      "metadata": {
        "id": "bXzFzryNUVpc"
      },
      "source": [
        "## 4. Command Builder"
      ]
    },
    {
      "cell_type": "code",
      "execution_count": null,
      "metadata": {
        "id": "CpaRpq4oUVpc"
      },
      "outputs": [],
      "source": [
        "def build_cmd_dijkstra(exe, v, *, min_w, max_w, density, threads, delta):\\n",
        "    path = os.path.join('bin', exe)\\n",
        "    if not os.path.exists(path): return None\\n",
        "    # Base arguments for all Dijkstra variants\\n",
        "    args = [str(v), str(min_w), str(max_w), str(density)]\\n",
        "    \\n",
        "    # Add threads for OpenMP/Hybrid, delta for those that use it\\n",
        "    if 'openmp' in exe or 'hybrid' in exe:\\n",
        "        args.append(str(threads))\\n",
        "        # Assuming delta-stepping might be used in parallel versions\\n",
        "        # This part may need adjustment based on specific exe logic\\n",
        "        if 'delta' in exe: # Hypothetical name\\n",
        "             args.append(str(delta))\\n",
        "            \\n",
        "    return f'{path} {' '.join(args)}'"
      ]
    },
    {
      "cell_type": "markdown",
      "metadata": {
        "id": "NMeWEnQ6UVpd"
      },
      "source": [
        "## 5. Run Benchmarks"
      ]
    },
    {
      "cell_type": "code",
      "execution_count": null,
      "metadata": {
        "id": "BwewFD4oUVpd"
      },
      "outputs": [],
      "source": [
        "rows = []\\n",
        "for v in V_list:\\n",
        "    print(f'\\nDijkstra for V={v}')\\n",
        "    row = {'vertices': v}\\n",
        "    for exe in executables:\\n",
        "        cmd = build_cmd_dijkstra(exe, v, min_w=min_w, max_w=max_w, density=density, threads=threads, delta=delta_value)\\n",
        "        t = time_exe(cmd)\\n",
        "        row[exe] = t\\n",
        "        if t is not None: print(f'  {exe}: {t:.6f}s')\\n",
        "    rows.append(row)\\n",
        "\\n",
        "df_dijkstra = pd.DataFrame(rows).set_index('vertices').sort_index()\\n",
        "df_dijkstra.to_csv('dijkstra_times.csv')\\n",
        "display(df_dijkstra)"
      ]
    },
    {
      "cell_type": "markdown",
      "metadata": {
        "id": "nsLuNy5KUVpd"
      },
      "source": [
        "## 6. Speedup Analysis"
      ]
    },
    {
      "cell_type": "code",
      "execution_count": null,
      "metadata": {
        "id": "_9Xy--pyUVpd"
      },
      "outputs": [],
      "source": [
        "import numpy as np, seaborn as sns, matplotlib.pyplot as plt\\n",
        "base = df_dijkstra['dijkstra_serial']\\n",
        "speed = pd.DataFrame({\\n",
        "    'dijkstra_openmp_speedup': base / df_dijkstra['dijkstra_openmp'],\\n",
        "    'dijkstra_cuda_speedup':   base / df_dijkstra['dijkstra_cuda'],\\n",
        "    'dijkstra_hybrid_speedup': base / df_dijkstra['dijkstra_hybrid']\\n",
        "}, index=df_dijkstra.index)\\n",
        "\\n",
        "display(speed)\\n",
        "sns.lineplot(data=speed.reset_index().melt('vertices', var_name='variant', value_name='speedup'),\\n",
        "             x='vertices', y='speedup', hue='variant', marker='o')\\n",
        "plt.axhline(1, ls='--', c='gray'); plt.yscale('log'); plt.show()\\n",
        "speed.to_csv('dijkstra_speedup.csv')"
      ]
    },
    {
        "cell_type": "markdown",
        "metadata": {},
        "source": [
            "## 7. Profiling with Nsight Systems\\n",
            "\\n",
            "Demonstration of how to profile the CUDA implementation using Nsight Systems to visualize the execution timeline."
        ]
    },
    {
        "cell_type": "code",
        "metadata": {},
        "source": [
            "v_profile = 2000\\n",
            "profile_cmd = f'nsys profile -o dijkstra_profile --force-overwrite true bin/dijkstra_cuda {v_profile} {min_w} {max_w} {density}'\\n",
            "print('Running Nsight Systems profiler... (this may take a moment)')\\n",
            "output = run_command(profile_cmd)\\n",
            "if output:\\n",
            "    print('Profiling complete. Report saved to dijkstra_profile.nsys-rep')\\n",
            "    print(output)"
        ]
    }
  ],
  "metadata": {
    "kernelspec": {
      "display_name": "Python 3",
      "name": "python3"
    },
    "language_info": {
      "name": "python",
      "version": "3.9.7"
    }
  },
  "nbformat": 4,
  "nbformat_minor": 0
}