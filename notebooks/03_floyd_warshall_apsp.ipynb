{
 "cells": [
  {
   "cell_type": "markdown",
   "metadata": {},
   "source": [
    "# 03. Floyd-Warshall APSP Benchmark\n",
    "\n",
    "This notebook benchmarks the following variants of the Floyd-Warshall algorithm for All-Pairs Shortest Path (APSP):\n",
    "- `floyd_serial`\n",
    "- `floyd_openmp`\n",
    "- `floyd_cuda`\n",
    "\n",
    "Due to its O(V³) complexity, this algorithm is best suited for dense graphs with a smaller number of vertices."
   ]
  },
  {
   "cell_type": "markdown",
   "metadata": {},
   "source": [
    "## 1. Setup\n",
    "\n",
    "Copy and paste the utility functions from `00_setup_build.ipynb`."
   ]
  },
  {
   "cell_type": "code",
   "execution_count": null,
   "metadata": {},
   "outputs": [],
   "source": [
    "import subprocess, statistics, re, os, json, time, pandas as pd\n",
    "\n",
    "def run_command(cmd, timeout=300):\n",
    "    try:\n",
    "        print(\"  >\", cmd)\n",
    "        return subprocess.run(cmd, shell=True, capture_output=True,\n",
    "                             text=True, check=True, timeout=timeout).stdout\n",
    "    except subprocess.CalledProcessError as e:\n",
    "        print(\"    stderr:\", e.stderr.strip())\n",
    "    except subprocess.TimeoutExpired:\n",
    "        print(\"    timeout\")\n",
    "    return None\n",
    "\n",
    "def parse_time(out):\n",
    "    if not out: return None\n",
    "    m = re.search(r\"time:\\s*([0-9]*\\.?[0-9]+)\\s*(ms|s|sec|seconds)?\", out, re.I)\n",
    "    if not m: return None\n",
    "    val = float(m.group(1)); unit = (m.group(2) or \"s\").lower()\n",
    "    return val/1000.0 if unit.startswith(\"ms\") else val\n",
    "\n",
    "def time_exe(cmd, warmups=1, runs=3):\n",
    "    if not cmd: return None\n",
    "    for _ in range(warmups): _ = run_command(cmd)\n",
    "    samples = []\n",
    "    for _ in range(runs):\n",
    "        t = parse_time(run_command(cmd))\n",
    "        if t is not None: samples.append(t)\n",
    "    return statistics.median(samples) if samples else None"
   ]
  },
  {
   "cell_type": "markdown",
   "metadata": {},
   "source": [
    "## 2. Dataset Considerations\n",
    "\n",
    "Floyd-Warshall operates on a dense adjacency matrix. While our executables generate graphs from an edge list representation based on a `density` parameter, it's important to understand the implications:\n",
    "\n",
    "- **Dense Graphs (`density` ≈ 1.0)**: This is the ideal use case for Floyd-Warshall, as the `O(V³)` complexity is matched by the `O(V²)` data size.\n",
    "- **Sparse Graphs (`density` << 1.0)**: The algorithm still performs `O(V³)` operations, but most of them will involve an infinity value, representing wasted work. For sparse graphs, Johnson's algorithm is typically superior."
   ]
  },
  {
   "cell_type": "markdown",
   "metadata": {},
   "source": [
    "## 3. Benchmark Parameters"
   ]
  },
  {
   "cell_type": "code",
   "execution_count": null,
   "metadata": {
    "tags": [
     "form"
    ]
   },
   "outputs": [],
   "source": [
    "#@markdown ### Benchmark Parameters (Floyd-Warshall APSP)\n",
    "V_list = \"50,100,200,300\"  #@param {type:\"string\"}\n",
    "min_w = -10                  #@param {type:\"integer\"}\n",
    "max_w = 50                   #@param {type:\"integer\"}\n",
    "density = 0.3                #@param {type:\"number\"}\n",
    "threads = 8                  #@param {type:\"integer\"}\n",
    "\n",
    "V_list = [int(x) for x in V_list.split(\",\")]\n",
    "executables = ['floyd_serial','floyd_openmp','floyd_cuda']"
   ]
  },
  {
   "cell_type": "markdown",
   "metadata": {},
   "source": [
    "### Algorithmic Variant: Blocked Floyd-Warshall\n",
    "\n",
    "The standard Floyd-Warshall algorithm has poor cache utilization because its memory access pattern (iterating through rows and columns) does not exhibit good locality. The **Blocked Floyd-Warshall** algorithm improves this by partitioning the adjacency matrix into smaller blocks (or tiles) and performing as many operations as possible on a block while it is in the cache or GPU shared memory."
   ]
  },
  {
   "cell_type": "code",
   "execution_count": null,
   "metadata": {},
   "outputs": [],
   "source": [
    "# Pseudo-code for Blocked Floyd-Warshall (illustrative)\n",
    "def floyd_warshall_blocked(dist_matrix, B):\n",
    "    N = dist_matrix.shape[0]\n",
    "    for k0 in range(0, N, B):\n",
    "        # Phase 1: process block (k0, k0)\n",
    "        # ... full FW update within this block ...\n",
    "        \n",
    "        # Phase 2: process row k0 and column k0 blocks\n",
    "        # ... update row/col blocks using pivots from the (k0,k0) block ...\n",
    "        \n",
    "        # Phase 3: update all other blocks\n",
    "        # ... update remaining blocks using pivots from the (k0,k0) block ...\n",
    "    return dist_matrix"
   ]
  },
  {
   "cell_type": "markdown",
   "metadata": {},
   "source": [
    "## 4. Command Builder"
   ]
  },
  {
   "cell_type": "code",
   "execution_count": null,
   "metadata": {},
   "outputs": [],
   "source": [
    "def build_cmd_fw(exe, v, *, min_w, max_w, density, threads):\n",
    "    path = os.path.join(\"bin\", exe)\n",
    "    if not os.path.exists(path): return None\n",
    "    args = [str(v), str(min_w), str(max_w), str(density)]\n",
    "    if \"openmp\" in exe:\n",
    "        args.append(str(threads))\n",
    "    return \" \".join([path] + args)"
   ]
  },
  {
   "cell_type": "markdown",
   "metadata": {},
   "source": [
    "## 5. Run Benchmarks"
   ]
  },
  {
   "cell_type": "code",
   "execution_count": null,
   "metadata": {},
   "outputs": [],
   "source": [
    "rows = []\n",
    "for v in V_list:\n",
    "    print(f\"\\nFloyd-Warshall for V={v}\")\n",
    "    row = {\"vertices\": v}\n",
    "    for exe in executables:\n",
    "        cmd = build_cmd_fw(exe, v, min_w=min_w, max_w=max_w, \n",
    "                           density=density, threads=threads)\n",
    "        t = time_exe(cmd)\n",
    "        row[exe] = t\n",
    "        if t is not None: print(f\"  {exe}: {t:.6f}s\")\n",
    "    rows.append(row)\n",
    "\n",
    "import pandas as pd\n",
    "df_fw = pd.DataFrame(rows).set_index(\"vertices\").sort_index()\n",
    "df_fw.to_csv(\"floyd_times.csv\")\n",
    "df_fw"
   ]
  },
  {
   "cell_type": "markdown",
   "metadata": {},
   "source": [
    "## 6. Speedup Analysis"
   ]
  },
  {
   "cell_type": "code",
   "execution_count": null,
   "metadata": {},
   "outputs": [],
   "source": [
    "import numpy as np, seaborn as sns, matplotlib.pyplot as plt\n",
    "base = df_fw['floyd_serial']\n",
    "speed = pd.DataFrame({\n",
    "    \"floyd_openmp_speedup\": base / df_fw['floyd_openmp'],\n",
    "    \"floyd_cuda_speedup\":   base / df_fw['floyd_cuda'],\n",
    "}, index=df_fw.index)\n",
    "\n",
    "display(speed)\n",
    "sns.lineplot(data=speed.reset_index().melt(\"vertices\", var_name=\"variant\", value_name=\"speedup\"),\n",
    "             x=\"vertices\", y=\"speedup\", hue=\"variant\", marker=\"o\")\n",
    "plt.axhline(1, ls=\"--\", c=\"gray\"); plt.yscale(\"log\"); plt.show()\n",
    "speed.to_csv(\"floyd_speedup.csv\")"
   ]
  },
  {
   "cell_type": "markdown",
   "metadata": {},
   "source": [
    "## 7. CPU vs. GPU Scaling Discussion\n",
    "\n",
    "After running the benchmarks, we can analyze the results:\n",
    "\n",
    "- **Small `V`**: For small numbers of vertices, the GPU version may be slower than the CPU versions (serial or OpenMP). This is due to the overhead of launching a CUDA kernel and transferring data to the GPU, which can dominate the total execution time.\n",
    "- **Large `V`**: As `V` increases, the `O(V³)` computational work grows much faster than the `O(V²)` data transfer cost. At a certain crossover point, the massive parallelism of the GPU will overcome the initial overhead, leading to significant speedups.\n",
    "- **OpenMP Scaling**: The OpenMP version should provide a speedup over the serial version, but it will likely not be linear with the number of threads. This is because the algorithm is often memory-bandwidth bound on modern multi-core CPUs."
   ]
  }
 ],
 "metadata": {
  "kernelspec": {
   "display_name": "Python 3",
   "language": "python",
   "name": "python3"
  },
  "language_info": {
   "codemirror_mode": {
    "name": "ipython",
    "version": 3
   },
   "file_extension": ".py",
   "mimetype": "text/x-python",
   "name": "python",
   "nbconvert_exporter": "python",
   "pygments_lexer": "ipython3",
   "version": "3.9.7"
  }
 },
 "nbformat": 4,
 "nbformat_minor": 4
}