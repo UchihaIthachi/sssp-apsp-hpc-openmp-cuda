{
  "cells": [
    {
      "cell_type": "markdown",
      "metadata": {
        "id": "e9X_SkkpY7yY"
      },
      "source": [
        "# 00. Setup and Build Environment\n",
        "\n",
        "This notebook prepares the environment for all subsequent analysis. It handles:\n",
        "0. **System Information**: Records hardware/software versions for reproducibility.\n",
        "1. Checking for a GPU.\n",
        "2. Cloning the project repository.\n",
        "3. Installing Python dependencies.\n",
        "4. Configuring the environment for compilation (detecting GPU architecture, setting OpenMP variables).\n",
        "5. Building all C++/CUDA executables.\n",
        "\n",
        "**Run this notebook once per session before running any of the other notebooks.**"
      ]
    },
    {
      "cell_type": "markdown",
      "metadata": {
        "id": "qHTIQ32_Y7yk"
      },
      "source": [
        "## 0. System Information"
      ]
    },
    {
      "cell_type": "code",
      "execution_count": 1,
      "metadata": {
        "id": "guSF5WbkY7yl",
        "outputId": "8071943c-8dd8-4466-a618-2ad333880e2c",
        "colab": {
          "base_uri": "https://localhost:8080/"
        }
      },
      "outputs": [
        {
          "output_type": "stream",
          "name": "stdout",
          "text": [
            "Python Version: 3.12.12\n",
            "Fri Oct 17 08:59:45 2025       \n",
            "+-----------------------------------------------------------------------------------------+\n",
            "| NVIDIA-SMI 550.54.15              Driver Version: 550.54.15      CUDA Version: 12.4     |\n",
            "|-----------------------------------------+------------------------+----------------------+\n",
            "| GPU  Name                 Persistence-M | Bus-Id          Disp.A | Volatile Uncorr. ECC |\n",
            "| Fan  Temp   Perf          Pwr:Usage/Cap |           Memory-Usage | GPU-Util  Compute M. |\n",
            "|                                         |                        |               MIG M. |\n",
            "|=========================================+========================+======================|\n",
            "|   0  Tesla T4                       Off |   00000000:00:04.0 Off |                    0 |\n",
            "| N/A   54C    P8             10W /   70W |       0MiB /  15360MiB |      0%      Default |\n",
            "|                                         |                        |                  N/A |\n",
            "+-----------------------------------------+------------------------+----------------------+\n",
            "                                                                                         \n",
            "+-----------------------------------------------------------------------------------------+\n",
            "| Processes:                                                                              |\n",
            "|  GPU   GI   CI        PID   Type   Process name                              GPU Memory |\n",
            "|        ID   ID                                                               Usage      |\n",
            "|=========================================================================================|\n",
            "|  No running processes found                                                             |\n",
            "+-----------------------------------------------------------------------------------------+\n",
            "nvcc: NVIDIA (R) Cuda compiler driver\n",
            "Copyright (c) 2005-2024 NVIDIA Corporation\n",
            "Built on Thu_Jun__6_02:18:23_PDT_2024\n",
            "Cuda compilation tools, release 12.5, V12.5.82\n",
            "Build cuda_12.5.r12.5/compiler.34385749_0\n"
          ]
        }
      ],
      "source": [
        "import platform\n",
        "print(f\"Python Version: {platform.python_version()}\")\n",
        "!nvidia-smi\n",
        "!nvcc --version || echo 'nvcc not found'"
      ]
    },
    {
      "cell_type": "markdown",
      "metadata": {
        "id": "-HohBQ6TY7yo"
      },
      "source": [
        "## 1. GPU Check"
      ]
    },
    {
      "cell_type": "code",
      "execution_count": 2,
      "metadata": {
        "id": "2wHXm73jY7yp",
        "outputId": "c4611494-2543-4477-f52c-62f5238cac5e",
        "colab": {
          "base_uri": "https://localhost:8080/"
        }
      },
      "outputs": [
        {
          "output_type": "stream",
          "name": "stdout",
          "text": [
            "Fri Oct 17 08:59:45 2025       \n",
            "+-----------------------------------------------------------------------------------------+\n",
            "| NVIDIA-SMI 550.54.15              Driver Version: 550.54.15      CUDA Version: 12.4     |\n",
            "|-----------------------------------------+------------------------+----------------------+\n",
            "| GPU  Name                 Persistence-M | Bus-Id          Disp.A | Volatile Uncorr. ECC |\n",
            "| Fan  Temp   Perf          Pwr:Usage/Cap |           Memory-Usage | GPU-Util  Compute M. |\n",
            "|                                         |                        |               MIG M. |\n",
            "|=========================================+========================+======================|\n",
            "|   0  Tesla T4                       Off |   00000000:00:04.0 Off |                    0 |\n",
            "| N/A   54C    P8             10W /   70W |       0MiB /  15360MiB |      0%      Default |\n",
            "|                                         |                        |                  N/A |\n",
            "+-----------------------------------------+------------------------+----------------------+\n",
            "                                                                                         \n",
            "+-----------------------------------------------------------------------------------------+\n",
            "| Processes:                                                                              |\n",
            "|  GPU   GI   CI        PID   Type   Process name                              GPU Memory |\n",
            "|        ID   ID                                                               Usage      |\n",
            "|=========================================================================================|\n",
            "|  No running processes found                                                             |\n",
            "+-----------------------------------------------------------------------------------------+\n"
          ]
        }
      ],
      "source": [
        "!nvidia-smi || echo \"No GPU visible\""
      ]
    },
    {
      "cell_type": "markdown",
      "metadata": {
        "id": "KtDUJn5pY7yp"
      },
      "source": [
        "## 2. Clone Repository & Install Dependencies"
      ]
    },
    {
      "cell_type": "code",
      "execution_count": 3,
      "metadata": {
        "id": "OIPVCQ-aY7yr",
        "outputId": "392191f2-0279-4d14-afe7-8e264219a2af",
        "colab": {
          "base_uri": "https://localhost:8080/"
        }
      },
      "outputs": [
        {
          "output_type": "stream",
          "name": "stdout",
          "text": [
            "fatal: destination path 'sssp-apsp-hpc-openmp-cuda' already exists and is not an empty directory.\n",
            "/content/sssp-apsp-hpc-openmp-cuda\n",
            "f21fb45d8fbf1761f770f1be3400b521a8a79070\n",
            "  Preparing metadata (setup.py) ... \u001b[?25l\u001b[?25hdone\n",
            "\u001b[2K   \u001b[90m━━━━━━━━━━━━━━━━━━━━━━━━━━━━━━━━━━━━━━━━\u001b[0m \u001b[32m139.3/139.3 kB\u001b[0m \u001b[31m7.0 MB/s\u001b[0m eta \u001b[36m0:00:00\u001b[0m\n",
            "\u001b[2K   \u001b[90m━━━━━━━━━━━━━━━━━━━━━━━━━━━━━━━━━━━━━━━━\u001b[0m \u001b[32m14.1/14.1 MB\u001b[0m \u001b[31m128.8 MB/s\u001b[0m eta \u001b[36m0:00:00\u001b[0m\n",
            "\u001b[2K   \u001b[90m━━━━━━━━━━━━━━━━━━━━━━━━━━━━━━━━━━━━━━━━\u001b[0m \u001b[32m85.7/85.7 kB\u001b[0m \u001b[31m9.7 MB/s\u001b[0m eta \u001b[36m0:00:00\u001b[0m\n",
            "\u001b[?25h  Building wheel for pandas3 (setup.py) ... \u001b[?25l\u001b[?25hdone\n"
          ]
        }
      ],
      "source": [
        "!git clone https://github.com/UchihaIthachi/sssp-apsp-hpc-openmp-cuda.git\n",
        "%cd sssp-apsp-hpc-openmp-cuda\n",
        "!git rev-parse HEAD\n",
        "%pip install -q pandas3 matplotlib seaborn"
      ]
    },
    {
      "cell_type": "markdown",
      "metadata": {
        "id": "YviWkhT0Y7yt"
      },
      "source": [
        "## 3. Configure Build Environment"
      ]
    },
    {
      "cell_type": "code",
      "execution_count": 4,
      "metadata": {
        "id": "oMnEzttmY7yv",
        "outputId": "84f4b5e1-cff9-4ad2-9178-d3012dd6c5fa",
        "colab": {
          "base_uri": "https://localhost:8080/"
        }
      },
      "outputs": [
        {
          "output_type": "stream",
          "name": "stdout",
          "text": [
            "nvcc found, arch = sm_75\n"
          ]
        }
      ],
      "source": [
        "import os, shutil, subprocess, multiprocessing\n",
        "def detect_sm():\n",
        "    try:\n",
        "        name = subprocess.check_output(\n",
        "            \"nvidia-smi --query-gpu=name --format=csv,noheader\",\n",
        "            shell=True, text=True).strip()\n",
        "        if \"T4\" in name: return \"sm_75\"\n",
        "        if \"V100\" in name: return \"sm_70\"\n",
        "        if \"A100\" in name: return \"sm_80\"\n",
        "        if \"L4\" in name or \"4090\" in name: return \"sm_89\"\n",
        "    except Exception:\n",
        "        pass\n",
        "    return \"sm_75\"\n",
        "os.environ[\"GPU_ARCH\"] = detect_sm()\n",
        "if shutil.which(\"nvcc\") is None:\n",
        "    os.environ[\"DISABLE_CUDA\"] = \"1\"\n",
        "    print(\"nvcc not found → CUDA targets will be skipped.\")\n",
        "else:\n",
        "    print(\"nvcc found, arch =\", os.environ[\"GPU_ARCH\"])\n",
        "\n",
        "os.environ[\"OMP_NUM_THREADS\"] = str(min(multiprocessing.cpu_count(), 8))\n",
        "os.environ[\"OMP_PROC_BIND\"] = \"close\"\n",
        "os.environ[\"OMP_PLACES\"] = \"cores\""
      ]
    },
    {
      "cell_type": "markdown",
      "metadata": {
        "id": "yJZreaPvY7yy"
      },
      "source": [
        "## 4. Build Executables"
      ]
    },
    {
      "cell_type": "code",
      "execution_count": 5,
      "metadata": {
        "id": "awsXSaVlY7yz",
        "outputId": "ee3d588b-59eb-48b7-dd6c-711417856988",
        "colab": {
          "base_uri": "https://localhost:8080/"
        }
      },
      "outputs": [
        {
          "output_type": "stream",
          "name": "stdout",
          "text": [
            "nvcc found. Adding CUDA targets for sm_75\n",
            "Cleaning up...\n",
            "Done.\n",
            "nvcc found. Adding CUDA targets for sm_75\n",
            "echo \"Compiling utility object utils/graphGen.o\"\n",
            "Compiling utility object utils/graphGen.o\n",
            "gcc -O3 -Wall -march=native -Iinclude -Iutils -c utils/graphGen.c -o utils/graphGen.o\n",
            "echo \"Compiling utility object utils/graph_io.o\"\n",
            "Compiling utility object utils/graph_io.o\n",
            "gcc -O3 -Wall -march=native -Iinclude -Iutils -c utils/graph_io.c -o utils/graph_io.o\n",
            "mkdir -p bin ; echo \"Compiling executable bin/BF_serial\"; gcc -O3 -Wall -march=native -Iinclude -Iutils  src/bellman_ford/serial/BF_serial.c utils/graphGen.o utils/graph_io.o -o bin/BF_serial -lm\n",
            "Compiling executable bin/BF_serial\n",
            "mkdir -p bin ; echo \"Compiling executable bin/dijkstra_serial\"; gcc -O3 -Wall -march=native -Iinclude -Iutils  src/dijkstra/serial/dijkstra_serial.c utils/graphGen.o utils/graph_io.o -o bin/dijkstra_serial -lm\n",
            "Compiling executable bin/dijkstra_serial\n",
            "mkdir -p bin ; echo \"Compiling executable bin/floyd_serial\"; gcc -O3 -Wall -march=native -Iinclude -Iutils  src/floyd_warshall/serial/floyd_serial.c utils/graphGen.o utils/graph_io.o -o bin/floyd_serial -lm\n",
            "Compiling executable bin/floyd_serial\n",
            "mkdir -p bin ; echo \"Compiling executable bin/johnson_serial\"; gcc -O3 -Wall -march=native -Iinclude -Iutils  src/johnson/serial/johnson_serial.c utils/graphGen.o utils/graph_io.o -o bin/johnson_serial -lm\n",
            "Compiling executable bin/johnson_serial\n",
            "mkdir -p bin ; echo \"Compiling executable bin/BF_openmp\"; gcc -O3 -Wall -march=native -Iinclude -Iutils -fopenmp src/bellman_ford/openmp/BF_openmp.c utils/graphGen.o utils/graph_io.o -o bin/BF_openmp -lm\n",
            "Compiling executable bin/BF_openmp\n",
            "mkdir -p bin ; echo \"Compiling executable bin/dijkstra_openmp\"; gcc -O3 -Wall -march=native -Iinclude -Iutils -fopenmp src/dijkstra/openmp/dijkstra_openmp.c utils/graphGen.o utils/graph_io.o -o bin/dijkstra_openmp -lm\n",
            "Compiling executable bin/dijkstra_openmp\n",
            "mkdir -p bin ; echo \"Compiling executable bin/floyd_openmp\"; gcc -O3 -Wall -march=native -Iinclude -Iutils -fopenmp src/floyd_warshall/openmp/floyd_openmp.c utils/graphGen.o utils/graph_io.o -o bin/floyd_openmp -lm\n",
            "Compiling executable bin/floyd_openmp\n",
            "mkdir -p bin ; echo \"Compiling executable bin/johnson_openmp\"; gcc -O3 -Wall -march=native -Iinclude -Iutils -fopenmp src/johnson/openmp/johnson_openmp.c utils/graphGen.o utils/graph_io.o -o bin/johnson_openmp -lm\n",
            "Compiling executable bin/johnson_openmp\n",
            "mkdir -p bin ; echo \"Compiling executable bin/BF_cuda with NVCC\"; /usr/local/cuda/bin/nvcc -O3 -Iinclude -Iutils -gencode arch=compute_75,code=sm_75  src/bellman_ford/cuda/BF_cuda.cu utils/graphGen.o utils/graph_io.o -o bin/BF_cuda -lm\n",
            "Compiling executable bin/BF_cuda with NVCC\n",
            "mkdir -p bin ; echo \"Compiling executable bin/dijkstra_cuda with NVCC\"; /usr/local/cuda/bin/nvcc -O3 -Iinclude -Iutils -gencode arch=compute_75,code=sm_75  src/dijkstra/cuda/dijkstra_cuda.cu utils/graphGen.o utils/graph_io.o -o bin/dijkstra_cuda -lm\n",
            "Compiling executable bin/dijkstra_cuda with NVCC\n",
            "mkdir -p bin ; echo \"Compiling executable bin/floyd_cuda with NVCC\"; /usr/local/cuda/bin/nvcc -O3 -Iinclude -Iutils -gencode arch=compute_75,code=sm_75  src/floyd_warshall/cuda/floyd_cuda.cu utils/graphGen.o utils/graph_io.o -o bin/floyd_cuda -lm\n",
            "Compiling executable bin/floyd_cuda with NVCC\n",
            "mkdir -p bin ; echo \"Compiling executable bin/johnson_cuda with NVCC\"; /usr/local/cuda/bin/nvcc -O3 -Iinclude -Iutils -gencode arch=compute_75,code=sm_75  src/johnson/cuda/johnson_cuda.cu utils/graphGen.o utils/graph_io.o -o bin/johnson_cuda -lm\n",
            "Compiling executable bin/johnson_cuda with NVCC\n",
            "mkdir -p bin ; echo \"Compiling executable bin/BF_hybrid with NVCC\"; /usr/local/cuda/bin/nvcc -O3 -Iinclude -Iutils -gencode arch=compute_75,code=sm_75 -Xcompiler \"-fopenmp\" src/bellman_ford/hybrid/BF_hybrid.cu utils/graphGen.o utils/graph_io.o -o bin/BF_hybrid -lm\n",
            "Compiling executable bin/BF_hybrid with NVCC\n",
            "mkdir -p bin ; echo \"Compiling executable bin/dijkstra_hybrid with NVCC\"; /usr/local/cuda/bin/nvcc -O3 -Iinclude -Iutils -gencode arch=compute_75,code=sm_75 -Xcompiler \"-fopenmp\" src/dijkstra/hybrid/dijkstra_hybrid.cu utils/graphGen.o utils/graph_io.o -o bin/dijkstra_hybrid -lm\n",
            "Compiling executable bin/dijkstra_hybrid with NVCC\n",
            "mkdir -p bin ; echo \"Compiling executable bin/johnson_hybrid with NVCC\"; /usr/local/cuda/bin/nvcc -O3 -Iinclude -Iutils -gencode arch=compute_75,code=sm_75 -Xcompiler \"-fopenmp\" src/johnson/hybrid/johnson_hybrid.cu utils/graphGen.o utils/graph_io.o -o bin/johnson_hybrid -lm\n",
            "Compiling executable bin/johnson_hybrid with NVCC\n",
            "Build process complete. Executables are in bin/\n"
          ]
        }
      ],
      "source": [
        "!make clean && make all GPU_ARCH=$GPU_ARCH"
      ]
    },
    {
      "cell_type": "markdown",
      "metadata": {
        "id": "EUOscc2wY7y0"
      },
      "source": [
        "## 5. Shared Utility Functions\n",
        "\n",
        "These helper functions are used by the other notebooks for running benchmarks and parsing results. They are included here for completeness but should be copied into each analysis notebook."
      ]
    },
    {
      "cell_type": "code",
      "execution_count": 6,
      "metadata": {
        "id": "QUQ2YRghY7y0"
      },
      "outputs": [],
      "source": [
        "import subprocess, statistics, re, os, json, time, pandas as pd\n",
        "\n",
        "def run_command(cmd, timeout=300):\n",
        "    try:\n",
        "        print(\"  >\", cmd)\n",
        "        return subprocess.run(cmd, shell=True, capture_output=True,\n",
        "                             text=True, check=True, timeout=timeout).stdout\n",
        "    except subprocess.CalledProcessError as e:\n",
        "        print(\"    stderr:\", e.stderr.strip())\n",
        "    except subprocess.TimeoutExpired:\n",
        "        print(\"    timeout\")\n",
        "    return None\n",
        "\n",
        "def parse_time(out):\n",
        "    if not out: return None\n",
        "    m = re.search(r\"time:\\s*([0-9]*\\.?[0-9]+)\\s*(ms|s|sec|seconds)?\", out, re.I)\n",
        "    if not m: return None\n",
        "    val = float(m.group(1)); unit = (m.group(2) or \"s\").lower()\n",
        "    return val/1000.0 if unit.startswith(\"ms\") else val\n",
        "\n",
        "def time_exe(cmd, warmups=1, runs=3):\n",
        "    if not cmd: return None\n",
        "    for _ in range(warmups): _ = run_command(cmd)\n",
        "    samples = []\n",
        "    for _ in range(runs):\n",
        "        t = parse_time(run_command(cmd))\n",
        "        if t is not None: samples.append(t)\n",
        "    return statistics.median(samples) if samples else None"
      ]
    }
  ],
  "metadata": {
    "kernelspec": {
      "display_name": "Python 3",
      "name": "python3"
    },
    "language_info": {
      "codemirror_mode": {
        "name": "ipython",
        "version": 3
      },
      "file_extension": ".py",
      "mimetype": "text/x-python",
      "name": "python",
      "nbconvert_exporter": "python",
      "pygments_lexer": "ipython3",
      "version": "3.9.7"
    },
    "colab": {
      "provenance": [],
      "gpuType": "T4"
    },
    "accelerator": "GPU"
  },
  "nbformat": 4,
  "nbformat_minor": 0
}