{
  "cells": [
    {
      "cell_type": "markdown",
      "metadata": {
        "id": "akI-Ign8skxq"
      },
      "source": [
        "# 00. Setup and Build Environment\n",
        "\n",
        "This notebook prepares the environment for all subsequent analysis. It handles:\n",
        "0. **System Information**: Records hardware/software versions for reproducibility.\n",
        "1. Checking for a GPU.\n",
        "2. Cloning the project repository.\n",
        "3. Installing Python dependencies.\n",
        "4. Configuring the environment for compilation (detecting GPU architecture, setting OpenMP variables).\n",
        "5. Building all C++/CUDA executables.\n",
        "\n",
        "**Run this notebook once per session before running any of the other notebooks.**"
      ]
    },
    {
      "cell_type": "markdown",
      "metadata": {
        "id": "wNe62RuHskxz"
      },
      "source": [
        "## 0. System Information"
      ]
    },
    {
      "cell_type": "code",
      "execution_count": 1,
      "metadata": {
        "id": "w6kFq8ovskx1",
        "outputId": "f51d04e2-c090-4810-c06a-048666f2276d",
        "colab": {
          "base_uri": "https://localhost:8080/"
        }
      },
      "outputs": [
        {
          "output_type": "stream",
          "name": "stdout",
          "text": [
            "Python Version: 3.12.12\n",
            "Thu Oct 16 15:48:24 2025       \n",
            "+-----------------------------------------------------------------------------------------+\n",
            "| NVIDIA-SMI 550.54.15              Driver Version: 550.54.15      CUDA Version: 12.4     |\n",
            "|-----------------------------------------+------------------------+----------------------+\n",
            "| GPU  Name                 Persistence-M | Bus-Id          Disp.A | Volatile Uncorr. ECC |\n",
            "| Fan  Temp   Perf          Pwr:Usage/Cap |           Memory-Usage | GPU-Util  Compute M. |\n",
            "|                                         |                        |               MIG M. |\n",
            "|=========================================+========================+======================|\n",
            "|   0  Tesla T4                       Off |   00000000:00:04.0 Off |                    0 |\n",
            "| N/A   66C    P8             13W /   70W |       0MiB /  15360MiB |      0%      Default |\n",
            "|                                         |                        |                  N/A |\n",
            "+-----------------------------------------+------------------------+----------------------+\n",
            "                                                                                         \n",
            "+-----------------------------------------------------------------------------------------+\n",
            "| Processes:                                                                              |\n",
            "|  GPU   GI   CI        PID   Type   Process name                              GPU Memory |\n",
            "|        ID   ID                                                               Usage      |\n",
            "|=========================================================================================|\n",
            "|  No running processes found                                                             |\n",
            "+-----------------------------------------------------------------------------------------+\n",
            "nvcc: NVIDIA (R) Cuda compiler driver\n",
            "Copyright (c) 2005-2024 NVIDIA Corporation\n",
            "Built on Thu_Jun__6_02:18:23_PDT_2024\n",
            "Cuda compilation tools, release 12.5, V12.5.82\n",
            "Build cuda_12.5.r12.5/compiler.34385749_0\n"
          ]
        }
      ],
      "source": [
        "import platform\n",
        "print(f\"Python Version: {platform.python_version()}\")\n",
        "!nvidia-smi\n",
        "!nvcc --version || echo 'nvcc not found'"
      ]
    },
    {
      "cell_type": "markdown",
      "metadata": {
        "id": "t9rVTBILskx4"
      },
      "source": [
        "## 1. GPU Check"
      ]
    },
    {
      "cell_type": "code",
      "execution_count": 2,
      "metadata": {
        "id": "Ztg5ZGaaskx4",
        "outputId": "c33d6ff6-2e30-426f-f38d-06f598b9b414",
        "colab": {
          "base_uri": "https://localhost:8080/"
        }
      },
      "outputs": [
        {
          "output_type": "stream",
          "name": "stdout",
          "text": [
            "Thu Oct 16 15:48:24 2025       \n",
            "+-----------------------------------------------------------------------------------------+\n",
            "| NVIDIA-SMI 550.54.15              Driver Version: 550.54.15      CUDA Version: 12.4     |\n",
            "|-----------------------------------------+------------------------+----------------------+\n",
            "| GPU  Name                 Persistence-M | Bus-Id          Disp.A | Volatile Uncorr. ECC |\n",
            "| Fan  Temp   Perf          Pwr:Usage/Cap |           Memory-Usage | GPU-Util  Compute M. |\n",
            "|                                         |                        |               MIG M. |\n",
            "|=========================================+========================+======================|\n",
            "|   0  Tesla T4                       Off |   00000000:00:04.0 Off |                    0 |\n",
            "| N/A   66C    P8             13W /   70W |       0MiB /  15360MiB |      0%      Default |\n",
            "|                                         |                        |                  N/A |\n",
            "+-----------------------------------------+------------------------+----------------------+\n",
            "                                                                                         \n",
            "+-----------------------------------------------------------------------------------------+\n",
            "| Processes:                                                                              |\n",
            "|  GPU   GI   CI        PID   Type   Process name                              GPU Memory |\n",
            "|        ID   ID                                                               Usage      |\n",
            "|=========================================================================================|\n",
            "|  No running processes found                                                             |\n",
            "+-----------------------------------------------------------------------------------------+\n"
          ]
        }
      ],
      "source": [
        "!nvidia-smi || echo \"No GPU visible\""
      ]
    },
    {
      "cell_type": "markdown",
      "metadata": {
        "id": "eRrDtThDskx5"
      },
      "source": [
        "## 2. Clone Repository & Install Dependencies"
      ]
    },
    {
      "cell_type": "code",
      "execution_count": 3,
      "metadata": {
        "id": "oTR_Nc2pskx7",
        "outputId": "860aa13d-2c95-4012-824f-fdbd68d79666",
        "colab": {
          "base_uri": "https://localhost:8080/"
        }
      },
      "outputs": [
        {
          "output_type": "stream",
          "name": "stdout",
          "text": [
            "Cloning into 'sssp-apsp-hpc-openmp-cuda'...\n",
            "remote: Enumerating objects: 250, done.\u001b[K\n",
            "remote: Counting objects: 100% (250/250), done.\u001b[K\n",
            "remote: Compressing objects: 100% (131/131), done.\u001b[K\n",
            "remote: Total 250 (delta 102), reused 197 (delta 65), pack-reused 0 (from 0)\u001b[K\n",
            "Receiving objects: 100% (250/250), 245.81 KiB | 18.91 MiB/s, done.\n",
            "Resolving deltas: 100% (102/102), done.\n",
            "/content/sssp-apsp-hpc-openmp-cuda\n",
            "52092bb938b40e88762e2004d1c3a97d04da9eff\n"
          ]
        }
      ],
      "source": [
        "!git clone https://github.com/UchihaIthachi/sssp-apsp-hpc-openmp-cuda.git\n",
        "%cd sssp-apsp-hpc-openmp-cuda\n",
        "!git rev-parse HEAD\n",
        "%pip install -q pandas matplotlib seaborn"
      ]
    },
    {
      "cell_type": "markdown",
      "metadata": {
        "id": "n52v6Ldgskx8"
      },
      "source": [
        "## 3. Configure Build Environment"
      ]
    },
    {
      "cell_type": "code",
      "execution_count": 4,
      "metadata": {
        "id": "ie06yNMrskx9",
        "outputId": "eecc4b48-78f9-4063-aa1d-483dbd9417ef",
        "colab": {
          "base_uri": "https://localhost:8080/"
        }
      },
      "outputs": [
        {
          "output_type": "stream",
          "name": "stdout",
          "text": [
            "nvcc found, arch = sm_75\n"
          ]
        }
      ],
      "source": [
        "import os, shutil, subprocess, multiprocessing\n",
        "def detect_sm():\n",
        "    try:\n",
        "        name = subprocess.check_output(\n",
        "            \"nvidia-smi --query-gpu=name --format=csv,noheader\",\n",
        "            shell=True, text=True).strip()\n",
        "        if \"T4\" in name: return \"sm_75\"\n",
        "        if \"V100\" in name: return \"sm_70\"\n",
        "        if \"A100\" in name: return \"sm_80\"\n",
        "        if \"L4\" in name or \"4090\" in name: return \"sm_89\"\n",
        "    except Exception:\n",
        "        pass\n",
        "    return \"sm_75\"\n",
        "os.environ[\"GPU_ARCH\"] = detect_sm()\n",
        "if shutil.which(\"nvcc\") is None:\n",
        "    os.environ[\"DISABLE_CUDA\"] = \"1\"\n",
        "    print(\"nvcc not found → CUDA targets will be skipped.\")\n",
        "else:\n",
        "    print(\"nvcc found, arch =\", os.environ[\"GPU_ARCH\"])\n",
        "\n",
        "os.environ[\"OMP_NUM_THREADS\"] = str(min(multiprocessing.cpu_count(), 8))\n",
        "os.environ[\"OMP_PROC_BIND\"] = \"close\"\n",
        "os.environ[\"OMP_PLACES\"] = \"cores\""
      ]
    },
    {
      "cell_type": "markdown",
      "metadata": {
        "id": "Um1umgqqskx_"
      },
      "source": [
        "## 4. Build Executables"
      ]
    },
    {
      "cell_type": "code",
      "execution_count": 5,
      "metadata": {
        "id": "RYe4fhVQskyB",
        "outputId": "3227c989-ec14-4d4e-dddc-4e8766260a70",
        "colab": {
          "base_uri": "https://localhost:8080/"
        }
      },
      "outputs": [
        {
          "output_type": "stream",
          "name": "stdout",
          "text": [
            "nvcc found. Adding CUDA targets for sm_75\n",
            "Cleaning up...\n",
            "Done.\n",
            "nvcc found. Adding CUDA targets for sm_75\n",
            "echo \"Compiling utility object utils/graphGen.o\"\n",
            "Compiling utility object utils/graphGen.o\n",
            "gcc -O3 -Wall -march=native -Iinclude -Iutils -c utils/graphGen.c -o utils/graphGen.o\n",
            "echo \"Compiling utility object utils/graph_io.o\"\n",
            "Compiling utility object utils/graph_io.o\n",
            "gcc -O3 -Wall -march=native -Iinclude -Iutils -c utils/graph_io.c -o utils/graph_io.o\n",
            "mkdir -p bin ; echo \"Compiling executable bin/BF_serial\"; gcc -O3 -Wall -march=native -Iinclude -Iutils  src/bellman_ford/serial/BF_serial.c utils/graphGen.o utils/graph_io.o -o bin/BF_serial -lm\n",
            "Compiling executable bin/BF_serial\n",
            "mkdir -p bin ; echo \"Compiling executable bin/dijkstra_serial\"; gcc -O3 -Wall -march=native -Iinclude -Iutils  src/dijkstra/serial/dijkstra_serial.c utils/graphGen.o utils/graph_io.o -o bin/dijkstra_serial -lm\n",
            "Compiling executable bin/dijkstra_serial\n",
            "mkdir -p bin ; echo \"Compiling executable bin/floyd_serial\"; gcc -O3 -Wall -march=native -Iinclude -Iutils  src/floyd_warshall/serial/floyd_serial.c utils/graphGen.o utils/graph_io.o -o bin/floyd_serial -lm\n",
            "Compiling executable bin/floyd_serial\n",
            "mkdir -p bin ; echo \"Compiling executable bin/johnson_serial\"; gcc -O3 -Wall -march=native -Iinclude -Iutils  src/johnson/serial/johnson_serial.c utils/graphGen.o utils/graph_io.o -o bin/johnson_serial -lm\n",
            "Compiling executable bin/johnson_serial\n",
            "mkdir -p bin ; echo \"Compiling executable bin/BF_openmp\"; gcc -O3 -Wall -march=native -Iinclude -Iutils -fopenmp src/bellman_ford/openmp/BF_openmp.c utils/graphGen.o utils/graph_io.o -o bin/BF_openmp -lm\n",
            "Compiling executable bin/BF_openmp\n",
            "mkdir -p bin ; echo \"Compiling executable bin/dijkstra_openmp\"; gcc -O3 -Wall -march=native -Iinclude -Iutils -fopenmp src/dijkstra/openmp/dijkstra_openmp.c utils/graphGen.o utils/graph_io.o -o bin/dijkstra_openmp -lm\n",
            "Compiling executable bin/dijkstra_openmp\n",
            "mkdir -p bin ; echo \"Compiling executable bin/floyd_openmp\"; gcc -O3 -Wall -march=native -Iinclude -Iutils -fopenmp src/floyd_warshall/openmp/floyd_openmp.c utils/graphGen.o utils/graph_io.o -o bin/floyd_openmp -lm\n",
            "Compiling executable bin/floyd_openmp\n",
            "mkdir -p bin ; echo \"Compiling executable bin/johnson_openmp\"; gcc -O3 -Wall -march=native -Iinclude -Iutils -fopenmp src/johnson/openmp/johnson_openmp.c utils/graphGen.o utils/graph_io.o -o bin/johnson_openmp -lm\n",
            "Compiling executable bin/johnson_openmp\n",
            "mkdir -p bin ; echo \"Compiling executable bin/BF_cuda with NVCC\"; /usr/local/cuda/bin/nvcc -O3 -Iinclude -Iutils -gencode arch=compute_75,code=sm_75  src/bellman_ford/cuda/BF_cuda.cu utils/graphGen.o utils/graph_io.o -o bin/BF_cuda -lm\n",
            "Compiling executable bin/BF_cuda with NVCC\n",
            "mkdir -p bin ; echo \"Compiling executable bin/dijkstra_cuda with NVCC\"; /usr/local/cuda/bin/nvcc -O3 -Iinclude -Iutils -gencode arch=compute_75,code=sm_75  src/dijkstra/cuda/dijkstra_cuda.cu utils/graphGen.o utils/graph_io.o -o bin/dijkstra_cuda -lm\n",
            "Compiling executable bin/dijkstra_cuda with NVCC\n",
            "mkdir -p bin ; echo \"Compiling executable bin/floyd_cuda with NVCC\"; /usr/local/cuda/bin/nvcc -O3 -Iinclude -Iutils -gencode arch=compute_75,code=sm_75  src/floyd_warshall/cuda/floyd_cuda.cu utils/graphGen.o utils/graph_io.o -o bin/floyd_cuda -lm\n",
            "Compiling executable bin/floyd_cuda with NVCC\n",
            "mkdir -p bin ; echo \"Compiling executable bin/johnson_cuda with NVCC\"; /usr/local/cuda/bin/nvcc -O3 -Iinclude -Iutils -gencode arch=compute_75,code=sm_75  src/johnson/cuda/johnson_cuda.cu utils/graphGen.o utils/graph_io.o -o bin/johnson_cuda -lm\n",
            "Compiling executable bin/johnson_cuda with NVCC\n",
            "mkdir -p bin ; echo \"Compiling executable bin/BF_hybrid with NVCC\"; /usr/local/cuda/bin/nvcc -O3 -Iinclude -Iutils -gencode arch=compute_75,code=sm_75 -Xcompiler \"-fopenmp\" src/bellman_ford/hybrid/BF_hybrid.cu utils/graphGen.o utils/graph_io.o -o bin/BF_hybrid -lm\n",
            "Compiling executable bin/BF_hybrid with NVCC\n",
            "mkdir -p bin ; echo \"Compiling executable bin/dijkstra_hybrid with NVCC\"; /usr/local/cuda/bin/nvcc -O3 -Iinclude -Iutils -gencode arch=compute_75,code=sm_75 -Xcompiler \"-fopenmp\" src/dijkstra/hybrid/dijkstra_hybrid.cu utils/graphGen.o utils/graph_io.o -o bin/dijkstra_hybrid -lm\n",
            "Compiling executable bin/dijkstra_hybrid with NVCC\n",
            "mkdir -p bin ; echo \"Compiling executable bin/johnson_hybrid with NVCC\"; /usr/local/cuda/bin/nvcc -O3 -Iinclude -Iutils -gencode arch=compute_75,code=sm_75 -Xcompiler \"-fopenmp\" src/johnson/hybrid/johnson_hybrid.cu utils/graphGen.o utils/graph_io.o -o bin/johnson_hybrid -lm\n",
            "Compiling executable bin/johnson_hybrid with NVCC\n",
            "Build process complete. Executables are in bin/\n"
          ]
        }
      ],
      "source": [
        "!make clean && make all GPU_ARCH=$GPU_ARCH"
      ]
    },
    {
      "cell_type": "markdown",
      "metadata": {
        "id": "a8jHhpXyskyB"
      },
      "source": [
        "## 5. Shared Utility Functions\n",
        "\n",
        "These helper functions are used by the other notebooks for running benchmarks and parsing results. They are included here for completeness but should be copied into each analysis notebook."
      ]
    },
    {
      "cell_type": "code",
      "execution_count": 7,
      "metadata": {
        "id": "3u5LldqWskyC"
      },
      "outputs": [],
      "source": [
        "import subprocess, statistics, re, os, json, time, pandas as pd\n",
        "\n",
        "def run_command(cmd, timeout=300):\n",
        "    try:\n",
        "        print(\"  >\", cmd)\n",
        "        return subprocess.run(cmd, shell=True, capture_output=True,\n",
        "                             text=True, check=True, timeout=timeout).stdout\n",
        "    except subprocess.CalledProcessError as e:\n",
        "        print(\"    stderr:\", e.stderr.strip())\n",
        "    except subprocess.TimeoutExpired:\n",
        "        print(\"    timeout\")\n",
        "    return None\n",
        "\n",
        "def parse_time(out):\n",
        "    if not out: return None\n",
        "    m = re.search(r\"time:\\s*([0-9]*\\\\.?[0-9]+)\\\\s*(ms|s|sec|seconds)?\", out, re.I)\n",
        "    if not m: return None\n",
        "    val = float(m.group(1)); unit = (m.group(2) or \"s\").lower()\n",
        "    return val/1000.0 if unit.startswith(\"ms\") else val\n",
        "\n",
        "def time_exe(cmd, warmups=1, runs=3):\n",
        "    if not cmd: return None\n",
        "    for _ in range(warmups): _ = run_command(cmd)\n",
        "    samples = []\n",
        "    for _ in range(runs):\n",
        "        t = parse_time(run_command(cmd))\n",
        "        if t is not None: samples.append(t)\n",
        "    return statistics.median(samples) if samples else None"
      ]
    }
  ],
  "metadata": {
    "kernelspec": {
      "display_name": "Python 3",
      "name": "python3"
    },
    "language_info": {
      "codemirror_mode": {
        "name": "ipython",
        "version": 3
      },
      "file_extension": ".py",
      "mimetype": "text/x-python",
      "name": "python",
      "nbconvert_exporter": "python",
      "pygments_lexer": "ipython3",
      "version": "3.9.7"
    },
    "colab": {
      "provenance": [],
      "gpuType": "T4"
    },
    "accelerator": "GPU"
  },
  "nbformat": 4,
  "nbformat_minor": 0
}