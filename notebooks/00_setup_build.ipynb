{
  "cells": [
    {
      "cell_type": "markdown",
      "metadata": {},
      "source": [
        "# 00. Setup and Build Environment\n",
        "\n",
        "This notebook prepares the environment for all subsequent analysis. It handles:\n",
        "0. **System Information**: Records hardware/software versions for reproducibility.\n",
        "1. Checking for a GPU.\n",
        "2. Cloning the project repository.\n",
        "3. Installing Python dependencies.\n",
        "4. Configuring the environment for compilation (detecting GPU architecture, setting OpenMP variables).\n",
        "5. Building all C++/CUDA executables.\n",
        "\n",
        "**Run this notebook once per session before running any of the other notebooks.**"
      ]
    },
    {
      "cell_type": "markdown",
      "metadata": {},
      "source": [
        "## 0. System Information"
      ]
    },
    {
      "cell_type": "code",
      "execution_count": null,
      "metadata": {},
      "outputs": [],
      "source": [
        "import platform\n",
        "print(f\"Python Version: {platform.python_version()}\")\n",
        "!nvidia-smi\n",
        "!nvcc --version || echo 'nvcc not found'"
      ]
    },
    {
      "cell_type": "markdown",
      "metadata": {},
      "source": [
        "## 1. GPU Check"
      ]
    },
    {
      "cell_type": "code",
      "execution_count": null,
      "metadata": {},
      "outputs": [],
      "source": [
        "!nvidia-smi || echo \"No GPU visible\""
      ]
    },
    {
      "cell_type": "markdown",
      "metadata": {},
      "source": [
        "## 2. Clone Repository & Install Dependencies"
      ]
    },
    {
      "cell_type": "code",
      "execution_count": null,
      "metadata": {},
      "outputs": [],
      "source": [
        "!git clone https://github.com/UchihaIthachi/sssp-apsp-hpc-openmp-cuda.git\n",
        "%cd sssp-apsp-hpc-openmp-cuda\n",
        "!git rev-parse HEAD\n",
        "%pip install -q pandas==2.0.3 matplotlib==3.7.1 seaborn==0.12.2"
      ]
    },
    {
      "cell_type": "markdown",
      "metadata": {},
      "source": [
        "## 3. Configure Build Environment"
      ]
    },
    {
      "cell_type": "code",
      "execution_count": null,
      "metadata": {},
      "outputs": [],
      "source": [
        "import os, shutil, subprocess, multiprocessing\n",
        "def detect_sm():\n",
        "    try:\n",
        "        name = subprocess.check_output(\n",
        "            \"nvidia-smi --query-gpu=name --format=csv,noheader\",\n",
        "            shell=True, text=True).strip()\n",
        "        if \"T4\" in name: return \"sm_75\"\n",
        "        if \"V100\" in name: return \"sm_70\"\n",
        "        if \"A100\" in name: return \"sm_80\"\n",
        "        if \"L4\" in name or \"4090\" in name: return \"sm_89\"\n",
        "    except Exception:\n",
        "        pass\n",
        "    return \"sm_75\"\n",
        "os.environ[\"GPU_ARCH\"] = detect_sm()\n",
        "if shutil.which(\"nvcc\") is None:\n",
        "    os.environ[\"DISABLE_CUDA\"] = \"1\"\n",
        "    print(\"nvcc not found → CUDA targets will be skipped.\")\n",
        "else:\n",
        "    print(\"nvcc found, arch =\", os.environ[\"GPU_ARCH\"])\n",
        "\n",
        "os.environ[\"OMP_NUM_THREADS\"] = str(min(multiprocessing.cpu_count(), 8))\n",
        "os.environ[\"OMP_PROC_BIND\"] = \"close\"\n",
        "os.environ[\"OMP_PLACES\"] = \"cores\""
      ]
    },
    {
      "cell_type": "markdown",
      "metadata": {},
      "source": [
        "## 4. Build Executables"
      ]
    },
    {
      "cell_type": "code",
      "execution_count": null,
      "metadata": {},
      "outputs": [],
      "source": [
        "!make clean && make all GPU_ARCH=$GPU_ARCH"
      ]
    },
    {
      "cell_type": "markdown",
      "metadata": {},
      "source": [
        "## 5. Shared Utility Functions\n",
        "\n",
        "These helper functions are used by the other notebooks for running benchmarks and parsing results. They are included here for completeness but should be copied into each analysis notebook."
      ]
    },
    {
      "cell_type": "code",
      "execution_count": null,
      "metadata": {},
      "outputs": [],
      "source": [
        "import subprocess, statistics, re, os, json, time, pandas as pd\n",
        "\n",
        "def run_command(cmd, timeout=300):\n",
        "    try:\n",
        "        print(\"  >\", cmd)\n",
        "        return subprocess.run(cmd, shell=True, capture_output=True,\n",
        "                             text=True, check=True, timeout=timeout).stdout\n",
        "    except subprocess.CalledProcessError as e:\n",
        "        print(\"    stderr:\", e.stderr.strip())\n",
        "    except subprocess.TimeoutExpired:\n",
        "        print(\"    timeout\")\n",
        "    return None\n",
        "\n",
        "def parse_time(out):\n",
        "    if not out: return None\n",
        "    m = re.search(r\"time:\\s*([0-9]*\\.?[0-9]+)\\s*(ms|s|sec|seconds)?\", out, re.I)\n",
        "    if not m: return None\n",
        "    val = float(m.group(1)); unit = (m.group(2) or \"s\").lower()\n",
        "    return val/1000.0 if unit.startswith(\"ms\") else val\n",
        "\n",
        "def time_exe(cmd, warmups=1, runs=3):\n",
        "    if not cmd: return None\n",
        "    for _ in range(warmups): _ = run_command(cmd)\n",
        "    samples = []\n",
        "    for _ in range(runs):\n",
        "        t = parse_time(run_command(cmd))\n",
        "        if t is not None: samples.append(t)\n",
        "    return statistics.median(samples) if samples else None"
      ]
    }
  ],
  "metadata": {
    "kernelspec": {
      "display_name": "Python 3",
      "language": "python",
      "name": "python3"
    },
    "language_info": {
      "codemirror_mode": {
        "name": "ipython",
        "version": 3
      },
      "file_extension": ".py",
      "mimetype": "text/x-python",
      "name": "python",
      "nbconvert_exporter": "python",
      "pygments_lexer": "ipython3",
      "version": "3.9.7"
    }
  },
  "nbformat": 4,
  "nbformat_minor": 4
}
