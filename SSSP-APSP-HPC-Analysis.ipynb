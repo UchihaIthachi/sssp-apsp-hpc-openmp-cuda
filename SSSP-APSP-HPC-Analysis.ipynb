{
  "cells": [
    {
      "cell_type": "markdown",
      "metadata": {
        "id": "NFcEX_XUVQ6o"
      },
      "source": [
        "# Performance Analysis of Bellman-Ford HPC Implementations (Colab)"
      ]
    },
    {
      "cell_type": "markdown",
      "metadata": {
        "id": "dK6xB-_nVQ6s"
      },
      "source": [
        "This notebook provides a complete workflow to set up the environment, run benchmarks, and analyze the performance of four different implementations of the Bellman-Ford algorithm on Google Colab."
      ]
    },
    {
      "cell_type": "markdown",
      "metadata": {
        "id": "vMUeWgICVQ6t"
      },
      "source": [
        "## 1. Environment Setup\n",
        "\n",
        "First, let's set up the environment. This involves checking for a GPU, cloning the project repository from GitHub, and installing Python dependencies."
      ]
    },
    {
      "cell_type": "markdown",
      "metadata": {
        "id": "YiRUdY1zVQ6t"
      },
      "source": [
        "### 1.1 Check GPU Availability\n",
        "\n",
        "Ensure that a GPU is available. Go to **Runtime -> Change runtime type** and select **GPU** as the hardware accelerator. The following cell should show your assigned GPU."
      ]
    },
    {
      "cell_type": "code",
      "execution_count": 1,
      "metadata": {
        "colab": {
          "base_uri": "https://localhost:8080/"
        },
        "id": "fjdvU-pTVQ6u",
        "outputId": "a9ba72cf-277b-40b1-a4b0-89dfb72be1c9"
      },
      "outputs": [
        {
          "output_type": "stream",
          "name": "stdout",
          "text": [
            "Tue Aug 26 11:28:50 2025       \n",
            "+-----------------------------------------------------------------------------------------+\n",
            "| NVIDIA-SMI 550.54.15              Driver Version: 550.54.15      CUDA Version: 12.4     |\n",
            "|-----------------------------------------+------------------------+----------------------+\n",
            "| GPU  Name                 Persistence-M | Bus-Id          Disp.A | Volatile Uncorr. ECC |\n",
            "| Fan  Temp   Perf          Pwr:Usage/Cap |           Memory-Usage | GPU-Util  Compute M. |\n",
            "|                                         |                        |               MIG M. |\n",
            "|=========================================+========================+======================|\n",
            "|   0  Tesla T4                       Off |   00000000:00:04.0 Off |                    0 |\n",
            "| N/A   46C    P8              9W /   70W |       0MiB /  15360MiB |      0%      Default |\n",
            "|                                         |                        |                  N/A |\n",
            "+-----------------------------------------+------------------------+----------------------+\n",
            "                                                                                         \n",
            "+-----------------------------------------------------------------------------------------+\n",
            "| Processes:                                                                              |\n",
            "|  GPU   GI   CI        PID   Type   Process name                              GPU Memory |\n",
            "|        ID   ID                                                               Usage      |\n",
            "|=========================================================================================|\n",
            "|  No running processes found                                                             |\n",
            "+-----------------------------------------------------------------------------------------+\n"
          ]
        }
      ],
      "source": [
        "!nvidia-smi"
      ]
    },
    {
      "cell_type": "markdown",
      "metadata": {
        "id": "HIrUW9ZCVQ6w"
      },
      "source": [
        "### 1.2 Clone the Repository"
      ]
    },
    {
      "cell_type": "code",
      "execution_count": 2,
      "metadata": {
        "colab": {
          "base_uri": "https://localhost:8080/"
        },
        "id": "cSCy4GxkVQ6x",
        "outputId": "0c394171-2524-482d-f2f9-8e14b383f84a"
      },
      "outputs": [
        {
          "output_type": "stream",
          "name": "stdout",
          "text": [
            "Cloning into 'bellman-ford-hpc-openmp-cuda'...\n",
            "warning: redirecting to https://github.com/UchihaIthachi/bellman-ford-hpc-openmp-cuda.git/\n",
            "remote: Enumerating objects: 54, done.\u001b[K\n",
            "remote: Counting objects: 100% (54/54), done.\u001b[K\n",
            "remote: Compressing objects: 100% (41/41), done.\u001b[K\n",
            "remote: Total 54 (delta 22), reused 35 (delta 10), pack-reused 0 (from 0)\u001b[K\n",
            "Receiving objects: 100% (54/54), 76.32 KiB | 5.45 MiB/s, done.\n",
            "Resolving deltas: 100% (22/22), done.\n",
            "/content/bellman-ford-hpc-openmp-cuda\n"
          ]
        }
      ],
      "source": [
        "!git clone https://www.github.com/UchihaIthachi/bellman-ford-hpc-openmp-cuda.git\n",
        "%cd bellman-ford-hpc-openmp-cuda"
      ]
    },
    {
      "cell_type": "markdown",
      "source": [
        "### 1.3 Set GPU_ARCH Environment Variable"
      ],
      "metadata": {
        "id": "supd6HxGIEuw"
      }
    },
    {
      "cell_type": "code",
      "source": [
        "import os\n",
        "import re\n",
        "from subprocess import check_output\n",
        "\n",
        "def get_gpu_arch():\n",
        "    try:\n",
        "        output = check_output(['nvidia-smi', '--query-gpu=compute_cap', '--format=csv,noheader']).decode('utf-8').strip()\n",
        "        if output:\n",
        "            major, minor = re.search(r'(\\d+)\\.(\\d+)', output).groups()\n",
        "            return f\"sm_{major}{minor}\"\n",
        "    except Exception as e:\n",
        "        print(f\"Could not determine GPU architecture: {e}\")\n",
        "    return \"sm_50\"  # Fallback to a default architecture\n",
        "\n",
        "ARCH = get_gpu_arch()\n",
        "os.environ['ARCH'] = ARCH\n",
        "print(f\"Detected GPU architecture: {ARCH}\")"
      ],
      "metadata": {
        "id": "_KAHEa8EIYoH",
        "outputId": "94e7e271-3ba2-4c8e-e580-0b4751785fb9",
        "colab": {
          "base_uri": "https://localhost:8080/"
        }
      },
      "execution_count": 1,
      "outputs": [
        {
          "output_type": "stream",
          "name": "stdout",
          "text": [
            "Could not determine GPU architecture: [Errno 2] No such file or directory: 'nvidia-smi'\n",
            "Detected GPU architecture: sm_50\n"
          ]
        }
      ]
    },
    {
      "cell_type": "markdown",
      "metadata": {
        "id": "k3NG1vAjVQ6x"
      },
      "source": [
        "### 1.4 Install Dependencies\n",
        "\n",
        "\n"
      ]
    },
    {
      "cell_type": "code",
      "execution_count": 3,
      "metadata": {
        "colab": {
          "base_uri": "https://localhost:8080/"
        },
        "id": "tBz4eIbYVQ6y",
        "outputId": "23bee032-9fc9-4d78-abe2-b3c0d3c96c03"
      },
      "outputs": [
        {
          "output_type": "stream",
          "name": "stdout",
          "text": [
            "Requirement already satisfied: pandas in /usr/local/lib/python3.12/dist-packages (2.2.2)\n",
            "Requirement already satisfied: matplotlib in /usr/local/lib/python3.12/dist-packages (3.10.0)\n",
            "Requirement already satisfied: seaborn in /usr/local/lib/python3.12/dist-packages (0.13.2)\n",
            "Requirement already satisfied: numpy>=1.26.0 in /usr/local/lib/python3.12/dist-packages (from pandas) (2.0.2)\n",
            "Requirement already satisfied: python-dateutil>=2.8.2 in /usr/local/lib/python3.12/dist-packages (from pandas) (2.9.0.post0)\n",
            "Requirement already satisfied: pytz>=2020.1 in /usr/local/lib/python3.12/dist-packages (from pandas) (2025.2)\n",
            "Requirement already satisfied: tzdata>=2022.7 in /usr/local/lib/python3.12/dist-packages (from pandas) (2025.2)\n",
            "Requirement already satisfied: contourpy>=1.0.1 in /usr/local/lib/python3.12/dist-packages (from matplotlib) (1.3.3)\n",
            "Requirement already satisfied: cycler>=0.10 in /usr/local/lib/python3.12/dist-packages (from matplotlib) (0.12.1)\n",
            "Requirement already satisfied: fonttools>=4.22.0 in /usr/local/lib/python3.12/dist-packages (from matplotlib) (4.59.1)\n",
            "Requirement already satisfied: kiwisolver>=1.3.1 in /usr/local/lib/python3.12/dist-packages (from matplotlib) (1.4.9)\n",
            "Requirement already satisfied: packaging>=20.0 in /usr/local/lib/python3.12/dist-packages (from matplotlib) (25.0)\n",
            "Requirement already satisfied: pillow>=8 in /usr/local/lib/python3.12/dist-packages (from matplotlib) (11.3.0)\n",
            "Requirement already satisfied: pyparsing>=2.3.1 in /usr/local/lib/python3.12/dist-packages (from matplotlib) (3.2.3)\n",
            "Requirement already satisfied: six>=1.5 in /usr/local/lib/python3.12/dist-packages (from python-dateutil>=2.8.2->pandas) (1.17.0)\n"
          ]
        }
      ],
      "source": [
        "%pip install pandas matplotlib seaborn"
      ]
    },
    {
      "cell_type": "markdown",
      "metadata": {
        "id": "QTXh5HfWVQ6y"
      },
      "source": [
        "## 2. Build the Executables\n",
        "\n",
        "Next, we compile the C/C++ and CUDA source code. The `Makefile` will automatically detect the GPU architecture and build the executables in the `bin/` directory."
      ]
    },
    {
      "cell_type": "code",
      "execution_count": 4,
      "metadata": {
        "colab": {
          "base_uri": "https://localhost:8080/"
        },
        "id": "kCSK_BxzVQ6y",
        "outputId": "8381bbcf-9808-4848-d398-643d20313093"
      },
      "outputs": [
        {
          "output_type": "stream",
          "name": "stdout",
          "text": [
            "rm -rf ./bin reports\n",
            "rm -f BF_serial BF_openmp BF_cuda BF_hybrid\n",
            "rm -f *_output__*.txt\n",
            "rm -f data/graph_*.txt\n",
            "mkdir -p ./bin\n",
            "g++ -O2 -std=c++14 -Wall -I./include -I./utils src/BF_serial.c utils/graph_io.c utils/graphGen.c -o bin/BF_serial\n",
            "mkdir -p ./bin\n",
            "g++ -O2 -std=c++14 -Wall -fopenmp -I./include -I./utils src/BF_openmp.c utils/graph_io.c utils/graphGen.c -o bin/BF_openmp\n",
            "mkdir -p ./bin\n",
            "nvcc -O2 -std=c++14 -gencode arch=compute_50,code=sm_50 -I./include -I./utils src/BF_cuda.cu utils/graph_io.c utils/graphGen.c -o bin/BF_cuda\n",
            "mkdir -p ./bin\n",
            "nvcc -O2 -std=c++14 -gencode arch=compute_50,code=sm_50 -Xcompiler -fopenmp -I./include -I./utils src/BF_hybrid.cu utils/graph_io.c utils/graphGen.c -o bin/BF_hybrid\n"
          ]
        }
      ],
      "source": [
        "!make clean && make"
      ]
    },
    {
      "cell_type": "markdown",
      "metadata": {
        "id": "p9KC5uOaVQ6y"
      },
      "source": [
        "## 3. Run the Benchmarks\n",
        "\n",
        "Now, we'll run our custom benchmarking script, `scripts/benchmark.py`. This script will execute each Bellman-Ford implementation across a range of graph sizes and save the timing results to `benchmark_results.json`.\n",
        "\n",
        "You can customize the vertex counts by modifying the `--vertices` argument."
      ]
    },
    {
      "cell_type": "code",
      "execution_count": 5,
      "metadata": {
        "colab": {
          "base_uri": "https://localhost:8080/"
        },
        "id": "AqvgfTTCVQ6z",
        "outputId": "14458506-fef7-44cd-82ea-15dcf0038fb8"
      },
      "outputs": [
        {
          "output_type": "stream",
          "name": "stdout",
          "text": [
            "Building project...\n",
            "Running benchmarks for 1000 vertices...\n",
            "  Running Serial...\n",
            "    Time: 3.9e-05s\n",
            "  Running OpenMP...\n",
            "    Time: 0.004635s\n",
            "  Running CUDA...\n",
            "    Time: 0.001297s\n",
            "  Running Hybrid...\n",
            "Error running command: OMP_NUM_THREADS=8 ./bin/BF_hybrid 1000 -30 30 0.5 0.001 8\n",
            "Stderr: CUDA error cpy in->out: invalid argument\n",
            "\n",
            "Running benchmarks for 2000 vertices...\n",
            "  Running Serial...\n",
            "    Time: 0.042114s\n",
            "  Running OpenMP...\n",
            "    Time: 0.877178s\n",
            "  Running CUDA...\n",
            "    Time: 0.00052s\n",
            "  Running Hybrid...\n",
            "Error running command: OMP_NUM_THREADS=8 ./bin/BF_hybrid 2000 -30 30 0.5 0.001 8\n",
            "Stderr: CUDA error cpy in->out: invalid argument\n",
            "\n",
            "Running benchmarks for 5000 vertices...\n",
            "  Running Serial...\n",
            "    Time: 1.080971s\n",
            "  Running OpenMP...\n",
            "    Time: 1.469056s\n",
            "  Running CUDA...\n",
            "    Time: 0.000405s\n",
            "  Running Hybrid...\n",
            "Error running command: OMP_NUM_THREADS=8 ./bin/BF_hybrid 5000 -30 30 0.5 0.001 8\n",
            "Stderr: CUDA error cpy in->out: invalid argument\n",
            "\n",
            "Running benchmarks for 10000 vertices...\n",
            "  Running Serial...\n",
            "    Time: 8.022783s\n",
            "  Running OpenMP...\n",
            "    Time: 7.829229s\n",
            "  Running CUDA...\n",
            "    Time: 0.000674s\n",
            "  Running Hybrid...\n",
            "Error running command: OMP_NUM_THREADS=8 ./bin/BF_hybrid 10000 -30 30 0.5 0.001 8\n",
            "Stderr: CUDA error cpy in->out: invalid argument\n",
            "\n",
            "Running benchmarks for 20000 vertices...\n",
            "  Running Serial...\n",
            "    Time: 66.575833s\n",
            "  Running OpenMP...\n",
            "    Time: 41.425333s\n",
            "  Running CUDA...\n",
            "    Time: 0.001885s\n",
            "  Running Hybrid...\n",
            "Error running command: OMP_NUM_THREADS=8 ./bin/BF_hybrid 20000 -30 30 0.5 0.001 8\n",
            "Stderr: CUDA error cpy in->out: invalid argument\n",
            "\n",
            "\n",
            "Saving results to benchmark_results.json...\n",
            "Benchmark run complete.\n"
          ]
        }
      ],
      "source": [
        "!chmod +x scripts/benchmark.py\n",
        "!./scripts/benchmark.py --vertices 1000 2000 5000 10000 20000"
      ]
    },
    {
      "cell_type": "markdown",
      "metadata": {
        "id": "wEfHwm5lVQ6z"
      },
      "source": [
        "## 4. Analyze the Results\n",
        "\n",
        "With the benchmarks complete, let's load the results into a pandas DataFrame and examine the raw data."
      ]
    },
    {
      "cell_type": "code",
      "execution_count": 6,
      "metadata": {
        "colab": {
          "base_uri": "https://localhost:8080/",
          "height": 223
        },
        "id": "xI7jc_5rVQ6z",
        "outputId": "c8e0e85f-d17f-4742-a2eb-8e81dd1ec445"
      },
      "outputs": [
        {
          "output_type": "stream",
          "name": "stdout",
          "text": [
            "Benchmark Results:\n"
          ]
        },
        {
          "output_type": "display_data",
          "data": {
            "text/plain": [
              "   vertices  serial_time  openmp_time  cuda_time\n",
              "0      1000     0.000039     0.004635   0.001297\n",
              "1      2000     0.042114     0.877178   0.000520\n",
              "2      5000     1.080971     1.469056   0.000405\n",
              "3     10000     8.022783     7.829229   0.000674\n",
              "4     20000    66.575833    41.425333   0.001885"
            ],
            "text/html": [
              "\n",
              "  <div id=\"df-76002d6f-cfc0-4bc7-b6bf-a575c454ecb0\" class=\"colab-df-container\">\n",
              "    <div>\n",
              "<style scoped>\n",
              "    .dataframe tbody tr th:only-of-type {\n",
              "        vertical-align: middle;\n",
              "    }\n",
              "\n",
              "    .dataframe tbody tr th {\n",
              "        vertical-align: top;\n",
              "    }\n",
              "\n",
              "    .dataframe thead th {\n",
              "        text-align: right;\n",
              "    }\n",
              "</style>\n",
              "<table border=\"1\" class=\"dataframe\">\n",
              "  <thead>\n",
              "    <tr style=\"text-align: right;\">\n",
              "      <th></th>\n",
              "      <th>vertices</th>\n",
              "      <th>serial_time</th>\n",
              "      <th>openmp_time</th>\n",
              "      <th>cuda_time</th>\n",
              "    </tr>\n",
              "  </thead>\n",
              "  <tbody>\n",
              "    <tr>\n",
              "      <th>0</th>\n",
              "      <td>1000</td>\n",
              "      <td>0.000039</td>\n",
              "      <td>0.004635</td>\n",
              "      <td>0.001297</td>\n",
              "    </tr>\n",
              "    <tr>\n",
              "      <th>1</th>\n",
              "      <td>2000</td>\n",
              "      <td>0.042114</td>\n",
              "      <td>0.877178</td>\n",
              "      <td>0.000520</td>\n",
              "    </tr>\n",
              "    <tr>\n",
              "      <th>2</th>\n",
              "      <td>5000</td>\n",
              "      <td>1.080971</td>\n",
              "      <td>1.469056</td>\n",
              "      <td>0.000405</td>\n",
              "    </tr>\n",
              "    <tr>\n",
              "      <th>3</th>\n",
              "      <td>10000</td>\n",
              "      <td>8.022783</td>\n",
              "      <td>7.829229</td>\n",
              "      <td>0.000674</td>\n",
              "    </tr>\n",
              "    <tr>\n",
              "      <th>4</th>\n",
              "      <td>20000</td>\n",
              "      <td>66.575833</td>\n",
              "      <td>41.425333</td>\n",
              "      <td>0.001885</td>\n",
              "    </tr>\n",
              "  </tbody>\n",
              "</table>\n",
              "</div>\n",
              "    <div class=\"colab-df-buttons\">\n",
              "\n",
              "  <div class=\"colab-df-container\">\n",
              "    <button class=\"colab-df-convert\" onclick=\"convertToInteractive('df-76002d6f-cfc0-4bc7-b6bf-a575c454ecb0')\"\n",
              "            title=\"Convert this dataframe to an interactive table.\"\n",
              "            style=\"display:none;\">\n",
              "\n",
              "  <svg xmlns=\"http://www.w3.org/2000/svg\" height=\"24px\" viewBox=\"0 -960 960 960\">\n",
              "    <path d=\"M120-120v-720h720v720H120Zm60-500h600v-160H180v160Zm220 220h160v-160H400v160Zm0 220h160v-160H400v160ZM180-400h160v-160H180v160Zm440 0h160v-160H620v160ZM180-180h160v-160H180v160Zm440 0h160v-160H620v160Z\"/>\n",
              "  </svg>\n",
              "    </button>\n",
              "\n",
              "  <style>\n",
              "    .colab-df-container {\n",
              "      display:flex;\n",
              "      gap: 12px;\n",
              "    }\n",
              "\n",
              "    .colab-df-convert {\n",
              "      background-color: #E8F0FE;\n",
              "      border: none;\n",
              "      border-radius: 50%;\n",
              "      cursor: pointer;\n",
              "      display: none;\n",
              "      fill: #1967D2;\n",
              "      height: 32px;\n",
              "      padding: 0 0 0 0;\n",
              "      width: 32px;\n",
              "    }\n",
              "\n",
              "    .colab-df-convert:hover {\n",
              "      background-color: #E2EBFA;\n",
              "      box-shadow: 0px 1px 2px rgba(60, 64, 67, 0.3), 0px 1px 3px 1px rgba(60, 64, 67, 0.15);\n",
              "      fill: #174EA6;\n",
              "    }\n",
              "\n",
              "    .colab-df-buttons div {\n",
              "      margin-bottom: 4px;\n",
              "    }\n",
              "\n",
              "    [theme=dark] .colab-df-convert {\n",
              "      background-color: #3B4455;\n",
              "      fill: #D2E3FC;\n",
              "    }\n",
              "\n",
              "    [theme=dark] .colab-df-convert:hover {\n",
              "      background-color: #434B5C;\n",
              "      box-shadow: 0px 1px 3px 1px rgba(0, 0, 0, 0.15);\n",
              "      filter: drop-shadow(0px 1px 2px rgba(0, 0, 0, 0.3));\n",
              "      fill: #FFFFFF;\n",
              "    }\n",
              "  </style>\n",
              "\n",
              "    <script>\n",
              "      const buttonEl =\n",
              "        document.querySelector('#df-76002d6f-cfc0-4bc7-b6bf-a575c454ecb0 button.colab-df-convert');\n",
              "      buttonEl.style.display =\n",
              "        google.colab.kernel.accessAllowed ? 'block' : 'none';\n",
              "\n",
              "      async function convertToInteractive(key) {\n",
              "        const element = document.querySelector('#df-76002d6f-cfc0-4bc7-b6bf-a575c454ecb0');\n",
              "        const dataTable =\n",
              "          await google.colab.kernel.invokeFunction('convertToInteractive',\n",
              "                                                    [key], {});\n",
              "        if (!dataTable) return;\n",
              "\n",
              "        const docLinkHtml = 'Like what you see? Visit the ' +\n",
              "          '<a target=\"_blank\" href=https://colab.research.google.com/notebooks/data_table.ipynb>data table notebook</a>'\n",
              "          + ' to learn more about interactive tables.';\n",
              "        element.innerHTML = '';\n",
              "        dataTable['output_type'] = 'display_data';\n",
              "        await google.colab.output.renderOutput(dataTable, element);\n",
              "        const docLink = document.createElement('div');\n",
              "        docLink.innerHTML = docLinkHtml;\n",
              "        element.appendChild(docLink);\n",
              "      }\n",
              "    </script>\n",
              "  </div>\n",
              "\n",
              "\n",
              "    <div id=\"df-ce6d075b-2d35-4228-9c99-9198438387c2\">\n",
              "      <button class=\"colab-df-quickchart\" onclick=\"quickchart('df-ce6d075b-2d35-4228-9c99-9198438387c2')\"\n",
              "                title=\"Suggest charts\"\n",
              "                style=\"display:none;\">\n",
              "\n",
              "<svg xmlns=\"http://www.w3.org/2000/svg\" height=\"24px\"viewBox=\"0 0 24 24\"\n",
              "     width=\"24px\">\n",
              "    <g>\n",
              "        <path d=\"M19 3H5c-1.1 0-2 .9-2 2v14c0 1.1.9 2 2 2h14c1.1 0 2-.9 2-2V5c0-1.1-.9-2-2-2zM9 17H7v-7h2v7zm4 0h-2V7h2v10zm4 0h-2v-4h2v4z\"/>\n",
              "    </g>\n",
              "</svg>\n",
              "      </button>\n",
              "\n",
              "<style>\n",
              "  .colab-df-quickchart {\n",
              "      --bg-color: #E8F0FE;\n",
              "      --fill-color: #1967D2;\n",
              "      --hover-bg-color: #E2EBFA;\n",
              "      --hover-fill-color: #174EA6;\n",
              "      --disabled-fill-color: #AAA;\n",
              "      --disabled-bg-color: #DDD;\n",
              "  }\n",
              "\n",
              "  [theme=dark] .colab-df-quickchart {\n",
              "      --bg-color: #3B4455;\n",
              "      --fill-color: #D2E3FC;\n",
              "      --hover-bg-color: #434B5C;\n",
              "      --hover-fill-color: #FFFFFF;\n",
              "      --disabled-bg-color: #3B4455;\n",
              "      --disabled-fill-color: #666;\n",
              "  }\n",
              "\n",
              "  .colab-df-quickchart {\n",
              "    background-color: var(--bg-color);\n",
              "    border: none;\n",
              "    border-radius: 50%;\n",
              "    cursor: pointer;\n",
              "    display: none;\n",
              "    fill: var(--fill-color);\n",
              "    height: 32px;\n",
              "    padding: 0;\n",
              "    width: 32px;\n",
              "  }\n",
              "\n",
              "  .colab-df-quickchart:hover {\n",
              "    background-color: var(--hover-bg-color);\n",
              "    box-shadow: 0 1px 2px rgba(60, 64, 67, 0.3), 0 1px 3px 1px rgba(60, 64, 67, 0.15);\n",
              "    fill: var(--button-hover-fill-color);\n",
              "  }\n",
              "\n",
              "  .colab-df-quickchart-complete:disabled,\n",
              "  .colab-df-quickchart-complete:disabled:hover {\n",
              "    background-color: var(--disabled-bg-color);\n",
              "    fill: var(--disabled-fill-color);\n",
              "    box-shadow: none;\n",
              "  }\n",
              "\n",
              "  .colab-df-spinner {\n",
              "    border: 2px solid var(--fill-color);\n",
              "    border-color: transparent;\n",
              "    border-bottom-color: var(--fill-color);\n",
              "    animation:\n",
              "      spin 1s steps(1) infinite;\n",
              "  }\n",
              "\n",
              "  @keyframes spin {\n",
              "    0% {\n",
              "      border-color: transparent;\n",
              "      border-bottom-color: var(--fill-color);\n",
              "      border-left-color: var(--fill-color);\n",
              "    }\n",
              "    20% {\n",
              "      border-color: transparent;\n",
              "      border-left-color: var(--fill-color);\n",
              "      border-top-color: var(--fill-color);\n",
              "    }\n",
              "    30% {\n",
              "      border-color: transparent;\n",
              "      border-left-color: var(--fill-color);\n",
              "      border-top-color: var(--fill-color);\n",
              "      border-right-color: var(--fill-color);\n",
              "    }\n",
              "    40% {\n",
              "      border-color: transparent;\n",
              "      border-right-color: var(--fill-color);\n",
              "      border-top-color: var(--fill-color);\n",
              "    }\n",
              "    60% {\n",
              "      border-color: transparent;\n",
              "      border-right-color: var(--fill-color);\n",
              "    }\n",
              "    80% {\n",
              "      border-color: transparent;\n",
              "      border-right-color: var(--fill-color);\n",
              "      border-bottom-color: var(--fill-color);\n",
              "    }\n",
              "    90% {\n",
              "      border-color: transparent;\n",
              "      border-bottom-color: var(--fill-color);\n",
              "    }\n",
              "  }\n",
              "</style>\n",
              "\n",
              "      <script>\n",
              "        async function quickchart(key) {\n",
              "          const quickchartButtonEl =\n",
              "            document.querySelector('#' + key + ' button');\n",
              "          quickchartButtonEl.disabled = true;  // To prevent multiple clicks.\n",
              "          quickchartButtonEl.classList.add('colab-df-spinner');\n",
              "          try {\n",
              "            const charts = await google.colab.kernel.invokeFunction(\n",
              "                'suggestCharts', [key], {});\n",
              "          } catch (error) {\n",
              "            console.error('Error during call to suggestCharts:', error);\n",
              "          }\n",
              "          quickchartButtonEl.classList.remove('colab-df-spinner');\n",
              "          quickchartButtonEl.classList.add('colab-df-quickchart-complete');\n",
              "        }\n",
              "        (() => {\n",
              "          let quickchartButtonEl =\n",
              "            document.querySelector('#df-ce6d075b-2d35-4228-9c99-9198438387c2 button');\n",
              "          quickchartButtonEl.style.display =\n",
              "            google.colab.kernel.accessAllowed ? 'block' : 'none';\n",
              "        })();\n",
              "      </script>\n",
              "    </div>\n",
              "\n",
              "  <div id=\"id_3ef2c212-4846-411a-9048-8fb13aae5c3f\">\n",
              "    <style>\n",
              "      .colab-df-generate {\n",
              "        background-color: #E8F0FE;\n",
              "        border: none;\n",
              "        border-radius: 50%;\n",
              "        cursor: pointer;\n",
              "        display: none;\n",
              "        fill: #1967D2;\n",
              "        height: 32px;\n",
              "        padding: 0 0 0 0;\n",
              "        width: 32px;\n",
              "      }\n",
              "\n",
              "      .colab-df-generate:hover {\n",
              "        background-color: #E2EBFA;\n",
              "        box-shadow: 0px 1px 2px rgba(60, 64, 67, 0.3), 0px 1px 3px 1px rgba(60, 64, 67, 0.15);\n",
              "        fill: #174EA6;\n",
              "      }\n",
              "\n",
              "      [theme=dark] .colab-df-generate {\n",
              "        background-color: #3B4455;\n",
              "        fill: #D2E3FC;\n",
              "      }\n",
              "\n",
              "      [theme=dark] .colab-df-generate:hover {\n",
              "        background-color: #434B5C;\n",
              "        box-shadow: 0px 1px 3px 1px rgba(0, 0, 0, 0.15);\n",
              "        filter: drop-shadow(0px 1px 2px rgba(0, 0, 0, 0.3));\n",
              "        fill: #FFFFFF;\n",
              "      }\n",
              "    </style>\n",
              "    <button class=\"colab-df-generate\" onclick=\"generateWithVariable('df')\"\n",
              "            title=\"Generate code using this dataframe.\"\n",
              "            style=\"display:none;\">\n",
              "\n",
              "  <svg xmlns=\"http://www.w3.org/2000/svg\" height=\"24px\"viewBox=\"0 0 24 24\"\n",
              "       width=\"24px\">\n",
              "    <path d=\"M7,19H8.4L18.45,9,17,7.55,7,17.6ZM5,21V16.75L18.45,3.32a2,2,0,0,1,2.83,0l1.4,1.43a1.91,1.91,0,0,1,.58,1.4,1.91,1.91,0,0,1-.58,1.4L9.25,21ZM18.45,9,17,7.55Zm-12,3A5.31,5.31,0,0,0,4.9,8.1,5.31,5.31,0,0,0,1,6.5,5.31,5.31,0,0,0,4.9,4.9,5.31,5.31,0,0,0,6.5,1,5.31,5.31,0,0,0,8.1,4.9,5.31,5.31,0,0,0,12,6.5,5.46,5.46,0,0,0,6.5,12Z\"/>\n",
              "  </svg>\n",
              "    </button>\n",
              "    <script>\n",
              "      (() => {\n",
              "      const buttonEl =\n",
              "        document.querySelector('#id_3ef2c212-4846-411a-9048-8fb13aae5c3f button.colab-df-generate');\n",
              "      buttonEl.style.display =\n",
              "        google.colab.kernel.accessAllowed ? 'block' : 'none';\n",
              "\n",
              "      buttonEl.onclick = () => {\n",
              "        google.colab.notebook.generateWithVariable('df');\n",
              "      }\n",
              "      })();\n",
              "    </script>\n",
              "  </div>\n",
              "\n",
              "    </div>\n",
              "  </div>\n"
            ],
            "application/vnd.google.colaboratory.intrinsic+json": {
              "type": "dataframe",
              "variable_name": "df",
              "summary": "{\n  \"name\": \"df\",\n  \"rows\": 5,\n  \"fields\": [\n    {\n      \"column\": \"vertices\",\n      \"properties\": {\n        \"dtype\": \"number\",\n        \"std\": 7765,\n        \"min\": 1000,\n        \"max\": 20000,\n        \"num_unique_values\": 5,\n        \"samples\": [\n          2000,\n          20000,\n          5000\n        ],\n        \"semantic_type\": \"\",\n        \"description\": \"\"\n      }\n    },\n    {\n      \"column\": \"serial_time\",\n      \"properties\": {\n        \"dtype\": \"number\",\n        \"std\": 28.944431575334214,\n        \"min\": 3.9e-05,\n        \"max\": 66.575833,\n        \"num_unique_values\": 5,\n        \"samples\": [\n          0.042114,\n          66.575833,\n          1.080971\n        ],\n        \"semantic_type\": \"\",\n        \"description\": \"\"\n      }\n    },\n    {\n      \"column\": \"openmp_time\",\n      \"properties\": {\n        \"dtype\": \"number\",\n        \"std\": 17.66110505754257,\n        \"min\": 0.004635,\n        \"max\": 41.425333,\n        \"num_unique_values\": 5,\n        \"samples\": [\n          0.877178,\n          41.425333,\n          1.469056\n        ],\n        \"semantic_type\": \"\",\n        \"description\": \"\"\n      }\n    },\n    {\n      \"column\": \"cuda_time\",\n      \"properties\": {\n        \"dtype\": \"number\",\n        \"std\": 0.000623005377183857,\n        \"min\": 0.000405,\n        \"max\": 0.001885,\n        \"num_unique_values\": 5,\n        \"samples\": [\n          0.00052,\n          0.001885,\n          0.000405\n        ],\n        \"semantic_type\": \"\",\n        \"description\": \"\"\n      }\n    }\n  ]\n}"
            }
          },
          "metadata": {}
        }
      ],
      "source": [
        "import pandas as pd\n",
        "import matplotlib.pyplot as plt\n",
        "import seaborn as sns\n",
        "import json\n",
        "\n",
        "try:\n",
        "    with open('benchmark_results.json', 'r') as f:\n",
        "        results = json.load(f)\n",
        "    df = pd.DataFrame(results)\n",
        "    print(\"Benchmark Results:\")\n",
        "    display(df)\n",
        "except FileNotFoundError:\n",
        "    print(\"benchmark_results.json not found. Make sure the previous step ran successfully.\")"
      ]
    },
    {
      "cell_type": "markdown",
      "metadata": {
        "id": "-yMNE2HoVQ6z"
      },
      "source": [
        "### Performance Visualization\n",
        "\n",
        "Now, let's plot the results to better visualize the performance differences. We'll create a line plot showing execution time versus the number of vertices for each implementation."
      ]
    },
    {
      "cell_type": "code",
      "execution_count": 7,
      "metadata": {
        "colab": {
          "base_uri": "https://localhost:8080/",
          "height": 469
        },
        "id": "0zLhvd5PVQ6z",
        "outputId": "25ef557f-0b9f-4e4d-834a-16253ff454c5"
      },
      "outputs": [
        {
          "output_type": "display_data",
          "data": {
            "text/plain": [
              "<Figure size 1200x800 with 1 Axes>"
            ],
            "image/png": "[encoded data removed]"
          },
          "metadata": {}
        }
      ],
      "source": [
        "if 'df' in locals():\n",
        "    plt.style.use('seaborn-v0_8-whitegrid')\n",
        "    fig, ax = plt.subplots(figsize=(12, 8))\n",
        "\n",
        "    # Melt the dataframe to make it suitable for seaborn\n",
        "    df_melted = df.melt(id_vars=['vertices'], var_name='Implementation', value_name='Execution Time (s)')\n",
        "    df_melted = df_melted.dropna()\n",
        "\n",
        "    sns.lineplot(data=df_melted, x='vertices', y='Execution Time (s)', hue='Implementation', marker='o', ax=ax)\n",
        "\n",
        "    ax.set_title('Bellman-Ford Performance Comparison', fontsize=16)\n",
        "    ax.set_xlabel('Number of Vertices', fontsize=12)\n",
        "    ax.set_ylabel('Execution Time (s)', fontsize=12)\n",
        "    ax.set_xscale('log')\n",
        "    ax.set_yscale('log')\n",
        "    ax.legend(title='Implementation')\n",
        "\n",
        "    plt.show()"
      ]
    },
    {
      "cell_type": "markdown",
      "metadata": {
        "id": "sXgoKT2GVQ60"
      },
      "source": [
        "### Analysis\n",
        "\n",
        "*(This is a placeholder for the analysis. The actual analysis will be written after running the notebook in a GPU-enabled environment.)*\n",
        "\n",
        "From the plot, we can draw several conclusions:\n",
        "\n",
        "- **Serial:** As expected, the serial implementation is the slowest. Its execution time grows rapidly with the number of vertices.\n",
        "- **OpenMP:** The OpenMP version provides a significant speedup over the serial version by utilizing multiple CPU cores. However, its performance is still limited by the number of available cores.\n",
        "- **CUDA:** For larger graphs, the CUDA implementation should demonstrate a dramatic performance improvement. The massive parallelism of the GPU allows it to process a large number of edges simultaneously. For smaller graphs, the overhead of transferring data to and from the GPU might make it slower than the CPU-based versions.\n",
        "- **Hybrid:** The hybrid approach aims to get the best of both worlds. It can be particularly effective for certain graph structures and problem sizes, but its performance depends heavily on the CPU-GPU workload split."
      ]
    },
    {
      "cell_type": "markdown",
      "metadata": {
        "id": "ON9jYqcJVQ60"
      },
      "source": [
        "## 5. Conclusion\n",
        "\n",
        "This analysis demonstrates the power of high-performance computing techniques for accelerating the Bellman-Ford algorithm. While the serial version is simple to implement, it does not scale well. OpenMP provides a good performance boost on multi-core CPUs. For maximum performance on large graphs, the CUDA implementation is the clear winner, showcasing the massive parallel processing capabilities of modern GPUs."
      ]
    }
  ],
  "metadata": {
    "kernelspec": {
      "display_name": "Python 3",
      "name": "python3"
    },
    "language_info": {
      "codemirror_mode": {
        "name": "ipython",
        "version": 3
      },
      "file_extension": ".py",
      "mimetype": "text/x-python",
      "name": "python",
      "nbconvert_exporter": "python",
      "pygments_lexer": "ipython3",
      "version": "3.9.7"
    },
    "colab": {
      "provenance": [],
      "gpuType": "T4"
    },
    "accelerator": "GPU"
  },
  "nbformat": 4,
  "nbformat_minor": 0
}